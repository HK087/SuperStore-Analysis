{
  "cells": [
    {
      "cell_type": "code",
      "execution_count": 16,
      "metadata": {
        "id": "m54HEydMk1eM"
      },
      "outputs": [],
      "source": [
        "import pandas as pd"
      ]
    },
    {
      "cell_type": "code",
      "execution_count": 17,
      "metadata": {
        "id": "Pkw2SyTel2nw"
      },
      "outputs": [],
      "source": [
        "import numpy as np\n",
        "import matplotlib.pyplot as plt\n",
        "import seaborn as sns"
      ]
    },
    {
      "cell_type": "code",
      "execution_count": 18,
      "metadata": {
        "id": "5CGQR6RGl9QG"
      },
      "outputs": [],
      "source": [
        "df = pd.read_csv(r\"Sample - Superstore.csv\", encoding=\"latin1\")"
      ]
    },
    {
      "cell_type": "code",
      "execution_count": 19,
      "metadata": {
        "colab": {
          "base_uri": "https://localhost:8080/",
          "height": 556
        },
        "id": "FXaJeoSZmCG4",
        "outputId": "f44cc019-d12b-4715-e2da-e51a43aa99bf"
      },
      "outputs": [
        {
          "data": {
            "text/html": [
              "<div>\n",
              "<style scoped>\n",
              "    .dataframe tbody tr th:only-of-type {\n",
              "        vertical-align: middle;\n",
              "    }\n",
              "\n",
              "    .dataframe tbody tr th {\n",
              "        vertical-align: top;\n",
              "    }\n",
              "\n",
              "    .dataframe thead th {\n",
              "        text-align: right;\n",
              "    }\n",
              "</style>\n",
              "<table border=\"1\" class=\"dataframe\">\n",
              "  <thead>\n",
              "    <tr style=\"text-align: right;\">\n",
              "      <th></th>\n",
              "      <th>Row ID</th>\n",
              "      <th>Order ID</th>\n",
              "      <th>Order Date</th>\n",
              "      <th>Ship Date</th>\n",
              "      <th>Ship Mode</th>\n",
              "      <th>Customer ID</th>\n",
              "      <th>Customer Name</th>\n",
              "      <th>Segment</th>\n",
              "      <th>Country</th>\n",
              "      <th>City</th>\n",
              "      <th>...</th>\n",
              "      <th>Postal Code</th>\n",
              "      <th>Region</th>\n",
              "      <th>Product ID</th>\n",
              "      <th>Category</th>\n",
              "      <th>Sub-Category</th>\n",
              "      <th>Product Name</th>\n",
              "      <th>Sales</th>\n",
              "      <th>Quantity</th>\n",
              "      <th>Discount</th>\n",
              "      <th>Profit</th>\n",
              "    </tr>\n",
              "  </thead>\n",
              "  <tbody>\n",
              "    <tr>\n",
              "      <th>0</th>\n",
              "      <td>1</td>\n",
              "      <td>CA-2016-152156</td>\n",
              "      <td>11/8/2016</td>\n",
              "      <td>11/11/2016</td>\n",
              "      <td>Second Class</td>\n",
              "      <td>CG-12520</td>\n",
              "      <td>Claire Gute</td>\n",
              "      <td>Consumer</td>\n",
              "      <td>United States</td>\n",
              "      <td>Henderson</td>\n",
              "      <td>...</td>\n",
              "      <td>42420</td>\n",
              "      <td>South</td>\n",
              "      <td>FUR-BO-10001798</td>\n",
              "      <td>Furniture</td>\n",
              "      <td>Bookcases</td>\n",
              "      <td>Bush Somerset Collection Bookcase</td>\n",
              "      <td>261.9600</td>\n",
              "      <td>2</td>\n",
              "      <td>0.00</td>\n",
              "      <td>41.9136</td>\n",
              "    </tr>\n",
              "    <tr>\n",
              "      <th>1</th>\n",
              "      <td>2</td>\n",
              "      <td>CA-2016-152156</td>\n",
              "      <td>11/8/2016</td>\n",
              "      <td>11/11/2016</td>\n",
              "      <td>Second Class</td>\n",
              "      <td>CG-12520</td>\n",
              "      <td>Claire Gute</td>\n",
              "      <td>Consumer</td>\n",
              "      <td>United States</td>\n",
              "      <td>Henderson</td>\n",
              "      <td>...</td>\n",
              "      <td>42420</td>\n",
              "      <td>South</td>\n",
              "      <td>FUR-CH-10000454</td>\n",
              "      <td>Furniture</td>\n",
              "      <td>Chairs</td>\n",
              "      <td>Hon Deluxe Fabric Upholstered Stacking Chairs,...</td>\n",
              "      <td>731.9400</td>\n",
              "      <td>3</td>\n",
              "      <td>0.00</td>\n",
              "      <td>219.5820</td>\n",
              "    </tr>\n",
              "    <tr>\n",
              "      <th>2</th>\n",
              "      <td>3</td>\n",
              "      <td>CA-2016-138688</td>\n",
              "      <td>6/12/2016</td>\n",
              "      <td>6/16/2016</td>\n",
              "      <td>Second Class</td>\n",
              "      <td>DV-13045</td>\n",
              "      <td>Darrin Van Huff</td>\n",
              "      <td>Corporate</td>\n",
              "      <td>United States</td>\n",
              "      <td>Los Angeles</td>\n",
              "      <td>...</td>\n",
              "      <td>90036</td>\n",
              "      <td>West</td>\n",
              "      <td>OFF-LA-10000240</td>\n",
              "      <td>Office Supplies</td>\n",
              "      <td>Labels</td>\n",
              "      <td>Self-Adhesive Address Labels for Typewriters b...</td>\n",
              "      <td>14.6200</td>\n",
              "      <td>2</td>\n",
              "      <td>0.00</td>\n",
              "      <td>6.8714</td>\n",
              "    </tr>\n",
              "    <tr>\n",
              "      <th>3</th>\n",
              "      <td>4</td>\n",
              "      <td>US-2015-108966</td>\n",
              "      <td>10/11/2015</td>\n",
              "      <td>10/18/2015</td>\n",
              "      <td>Standard Class</td>\n",
              "      <td>SO-20335</td>\n",
              "      <td>Sean O'Donnell</td>\n",
              "      <td>Consumer</td>\n",
              "      <td>United States</td>\n",
              "      <td>Fort Lauderdale</td>\n",
              "      <td>...</td>\n",
              "      <td>33311</td>\n",
              "      <td>South</td>\n",
              "      <td>FUR-TA-10000577</td>\n",
              "      <td>Furniture</td>\n",
              "      <td>Tables</td>\n",
              "      <td>Bretford CR4500 Series Slim Rectangular Table</td>\n",
              "      <td>957.5775</td>\n",
              "      <td>5</td>\n",
              "      <td>0.45</td>\n",
              "      <td>-383.0310</td>\n",
              "    </tr>\n",
              "    <tr>\n",
              "      <th>4</th>\n",
              "      <td>5</td>\n",
              "      <td>US-2015-108966</td>\n",
              "      <td>10/11/2015</td>\n",
              "      <td>10/18/2015</td>\n",
              "      <td>Standard Class</td>\n",
              "      <td>SO-20335</td>\n",
              "      <td>Sean O'Donnell</td>\n",
              "      <td>Consumer</td>\n",
              "      <td>United States</td>\n",
              "      <td>Fort Lauderdale</td>\n",
              "      <td>...</td>\n",
              "      <td>33311</td>\n",
              "      <td>South</td>\n",
              "      <td>OFF-ST-10000760</td>\n",
              "      <td>Office Supplies</td>\n",
              "      <td>Storage</td>\n",
              "      <td>Eldon Fold 'N Roll Cart System</td>\n",
              "      <td>22.3680</td>\n",
              "      <td>2</td>\n",
              "      <td>0.20</td>\n",
              "      <td>2.5164</td>\n",
              "    </tr>\n",
              "  </tbody>\n",
              "</table>\n",
              "<p>5 rows × 21 columns</p>\n",
              "</div>"
            ],
            "text/plain": [
              "   Row ID        Order ID  Order Date   Ship Date       Ship Mode Customer ID  \\\n",
              "0       1  CA-2016-152156   11/8/2016  11/11/2016    Second Class    CG-12520   \n",
              "1       2  CA-2016-152156   11/8/2016  11/11/2016    Second Class    CG-12520   \n",
              "2       3  CA-2016-138688   6/12/2016   6/16/2016    Second Class    DV-13045   \n",
              "3       4  US-2015-108966  10/11/2015  10/18/2015  Standard Class    SO-20335   \n",
              "4       5  US-2015-108966  10/11/2015  10/18/2015  Standard Class    SO-20335   \n",
              "\n",
              "     Customer Name    Segment        Country             City  ...  \\\n",
              "0      Claire Gute   Consumer  United States        Henderson  ...   \n",
              "1      Claire Gute   Consumer  United States        Henderson  ...   \n",
              "2  Darrin Van Huff  Corporate  United States      Los Angeles  ...   \n",
              "3   Sean O'Donnell   Consumer  United States  Fort Lauderdale  ...   \n",
              "4   Sean O'Donnell   Consumer  United States  Fort Lauderdale  ...   \n",
              "\n",
              "  Postal Code  Region       Product ID         Category Sub-Category  \\\n",
              "0       42420   South  FUR-BO-10001798        Furniture    Bookcases   \n",
              "1       42420   South  FUR-CH-10000454        Furniture       Chairs   \n",
              "2       90036    West  OFF-LA-10000240  Office Supplies       Labels   \n",
              "3       33311   South  FUR-TA-10000577        Furniture       Tables   \n",
              "4       33311   South  OFF-ST-10000760  Office Supplies      Storage   \n",
              "\n",
              "                                        Product Name     Sales  Quantity  \\\n",
              "0                  Bush Somerset Collection Bookcase  261.9600         2   \n",
              "1  Hon Deluxe Fabric Upholstered Stacking Chairs,...  731.9400         3   \n",
              "2  Self-Adhesive Address Labels for Typewriters b...   14.6200         2   \n",
              "3      Bretford CR4500 Series Slim Rectangular Table  957.5775         5   \n",
              "4                     Eldon Fold 'N Roll Cart System   22.3680         2   \n",
              "\n",
              "   Discount    Profit  \n",
              "0      0.00   41.9136  \n",
              "1      0.00  219.5820  \n",
              "2      0.00    6.8714  \n",
              "3      0.45 -383.0310  \n",
              "4      0.20    2.5164  \n",
              "\n",
              "[5 rows x 21 columns]"
            ]
          },
          "execution_count": 19,
          "metadata": {},
          "output_type": "execute_result"
        }
      ],
      "source": [
        "df.head()"
      ]
    },
    {
      "cell_type": "code",
      "execution_count": 20,
      "metadata": {
        "colab": {
          "base_uri": "https://localhost:8080/"
        },
        "id": "-e7Fna5Imtzb",
        "outputId": "0b623f93-61b2-4f5c-e218-97ed941ee3f3"
      },
      "outputs": [
        {
          "name": "stdout",
          "output_type": "stream",
          "text": [
            "<class 'pandas.core.frame.DataFrame'>\n",
            "RangeIndex: 9994 entries, 0 to 9993\n",
            "Data columns (total 21 columns):\n",
            " #   Column         Non-Null Count  Dtype  \n",
            "---  ------         --------------  -----  \n",
            " 0   Row ID         9994 non-null   int64  \n",
            " 1   Order ID       9994 non-null   object \n",
            " 2   Order Date     9994 non-null   object \n",
            " 3   Ship Date      9994 non-null   object \n",
            " 4   Ship Mode      9994 non-null   object \n",
            " 5   Customer ID    9994 non-null   object \n",
            " 6   Customer Name  9994 non-null   object \n",
            " 7   Segment        9994 non-null   object \n",
            " 8   Country        9994 non-null   object \n",
            " 9   City           9994 non-null   object \n",
            " 10  State          9994 non-null   object \n",
            " 11  Postal Code    9994 non-null   int64  \n",
            " 12  Region         9994 non-null   object \n",
            " 13  Product ID     9994 non-null   object \n",
            " 14  Category       9994 non-null   object \n",
            " 15  Sub-Category   9994 non-null   object \n",
            " 16  Product Name   9994 non-null   object \n",
            " 17  Sales          9994 non-null   float64\n",
            " 18  Quantity       9994 non-null   int64  \n",
            " 19  Discount       9994 non-null   float64\n",
            " 20  Profit         9994 non-null   float64\n",
            "dtypes: float64(3), int64(3), object(15)\n",
            "memory usage: 1.6+ MB\n"
          ]
        }
      ],
      "source": [
        "df.info()"
      ]
    },
    {
      "cell_type": "code",
      "execution_count": 21,
      "metadata": {
        "id": "1-m-_KGpnHmF"
      },
      "outputs": [],
      "source": [
        "# filling null values"
      ]
    },
    {
      "cell_type": "code",
      "execution_count": 22,
      "metadata": {
        "id": "0lFspKjynOD5"
      },
      "outputs": [
        {
          "name": "stderr",
          "output_type": "stream",
          "text": [
            "C:\\Users\\Hitesh Khirid\\AppData\\Local\\Temp\\ipykernel_18768\\3162005493.py:1: FutureWarning: A value is trying to be set on a copy of a DataFrame or Series through chained assignment using an inplace method.\n",
            "The behavior will change in pandas 3.0. This inplace method will never work because the intermediate object on which we are setting values always behaves as a copy.\n",
            "\n",
            "For example, when doing 'df[col].method(value, inplace=True)', try using 'df.method({col: value}, inplace=True)' or df[col] = df[col].method(value) instead, to perform the operation inplace on the original object.\n",
            "\n",
            "\n",
            "  df[\"Postal Code\"].fillna(0,  inplace = True)\n"
          ]
        }
      ],
      "source": [
        "df[\"Postal Code\"].fillna(0,  inplace = True)"
      ]
    },
    {
      "cell_type": "code",
      "execution_count": 23,
      "metadata": {
        "id": "2il173yfnTDT"
      },
      "outputs": [],
      "source": [
        "df [\"Postal Code\"] = df[\"Postal Code\"].astype(int)"
      ]
    },
    {
      "cell_type": "code",
      "execution_count": 24,
      "metadata": {
        "colab": {
          "base_uri": "https://localhost:8080/"
        },
        "id": "4LRBEaVYnaZi",
        "outputId": "42bb5e68-6379-4617-9fc1-4a8dbff10240"
      },
      "outputs": [
        {
          "name": "stdout",
          "output_type": "stream",
          "text": [
            "<class 'pandas.core.frame.DataFrame'>\n",
            "RangeIndex: 9994 entries, 0 to 9993\n",
            "Data columns (total 21 columns):\n",
            " #   Column         Non-Null Count  Dtype  \n",
            "---  ------         --------------  -----  \n",
            " 0   Row ID         9994 non-null   int64  \n",
            " 1   Order ID       9994 non-null   object \n",
            " 2   Order Date     9994 non-null   object \n",
            " 3   Ship Date      9994 non-null   object \n",
            " 4   Ship Mode      9994 non-null   object \n",
            " 5   Customer ID    9994 non-null   object \n",
            " 6   Customer Name  9994 non-null   object \n",
            " 7   Segment        9994 non-null   object \n",
            " 8   Country        9994 non-null   object \n",
            " 9   City           9994 non-null   object \n",
            " 10  State          9994 non-null   object \n",
            " 11  Postal Code    9994 non-null   int64  \n",
            " 12  Region         9994 non-null   object \n",
            " 13  Product ID     9994 non-null   object \n",
            " 14  Category       9994 non-null   object \n",
            " 15  Sub-Category   9994 non-null   object \n",
            " 16  Product Name   9994 non-null   object \n",
            " 17  Sales          9994 non-null   float64\n",
            " 18  Quantity       9994 non-null   int64  \n",
            " 19  Discount       9994 non-null   float64\n",
            " 20  Profit         9994 non-null   float64\n",
            "dtypes: float64(3), int64(3), object(15)\n",
            "memory usage: 1.6+ MB\n"
          ]
        }
      ],
      "source": [
        "df.info()"
      ]
    },
    {
      "cell_type": "code",
      "execution_count": 25,
      "metadata": {
        "colab": {
          "base_uri": "https://localhost:8080/"
        },
        "id": "jzS5LgzanbSJ",
        "outputId": "d62da83c-2f89-493b-8c1c-c0ef0217c63f"
      },
      "outputs": [
        {
          "name": "stdout",
          "output_type": "stream",
          "text": [
            "Doesn't Exist\n"
          ]
        }
      ],
      "source": [
        "if df.duplicated().sum() > 0: #\n",
        "    print(\"Duplicate exists\")\n",
        "else:\n",
        "    print(\"Doesn't Exist\")"
      ]
    },
    {
      "cell_type": "code",
      "execution_count": 26,
      "metadata": {
        "colab": {
          "base_uri": "https://localhost:8080/",
          "height": 1000
        },
        "id": "OZAYMd87ZHq4",
        "outputId": "bae2e8c2-aecd-4294-f610-bcf1dc2b7cd8"
      },
      "outputs": [
        {
          "data": {
            "text/html": [
              "<div>\n",
              "<style scoped>\n",
              "    .dataframe tbody tr th:only-of-type {\n",
              "        vertical-align: middle;\n",
              "    }\n",
              "\n",
              "    .dataframe tbody tr th {\n",
              "        vertical-align: top;\n",
              "    }\n",
              "\n",
              "    .dataframe thead th {\n",
              "        text-align: right;\n",
              "    }\n",
              "</style>\n",
              "<table border=\"1\" class=\"dataframe\">\n",
              "  <thead>\n",
              "    <tr style=\"text-align: right;\">\n",
              "      <th></th>\n",
              "      <th>Row ID</th>\n",
              "      <th>Order ID</th>\n",
              "      <th>Order Date</th>\n",
              "      <th>Ship Date</th>\n",
              "      <th>Ship Mode</th>\n",
              "      <th>Customer ID</th>\n",
              "      <th>Customer Name</th>\n",
              "      <th>Segment</th>\n",
              "      <th>Country</th>\n",
              "      <th>City</th>\n",
              "      <th>...</th>\n",
              "      <th>Postal Code</th>\n",
              "      <th>Region</th>\n",
              "      <th>Product ID</th>\n",
              "      <th>Category</th>\n",
              "      <th>Sub-Category</th>\n",
              "      <th>Product Name</th>\n",
              "      <th>Sales</th>\n",
              "      <th>Quantity</th>\n",
              "      <th>Discount</th>\n",
              "      <th>Profit</th>\n",
              "    </tr>\n",
              "  </thead>\n",
              "  <tbody>\n",
              "    <tr>\n",
              "      <th>0</th>\n",
              "      <td>1</td>\n",
              "      <td>CA-2016-152156</td>\n",
              "      <td>11/8/2016</td>\n",
              "      <td>11/11/2016</td>\n",
              "      <td>Second Class</td>\n",
              "      <td>CG-12520</td>\n",
              "      <td>Claire Gute</td>\n",
              "      <td>Consumer</td>\n",
              "      <td>United States</td>\n",
              "      <td>Henderson</td>\n",
              "      <td>...</td>\n",
              "      <td>42420</td>\n",
              "      <td>South</td>\n",
              "      <td>FUR-BO-10001798</td>\n",
              "      <td>Furniture</td>\n",
              "      <td>Bookcases</td>\n",
              "      <td>Bush Somerset Collection Bookcase</td>\n",
              "      <td>261.9600</td>\n",
              "      <td>2</td>\n",
              "      <td>0.00</td>\n",
              "      <td>41.9136</td>\n",
              "    </tr>\n",
              "    <tr>\n",
              "      <th>1</th>\n",
              "      <td>2</td>\n",
              "      <td>CA-2016-152156</td>\n",
              "      <td>11/8/2016</td>\n",
              "      <td>11/11/2016</td>\n",
              "      <td>Second Class</td>\n",
              "      <td>CG-12520</td>\n",
              "      <td>Claire Gute</td>\n",
              "      <td>Consumer</td>\n",
              "      <td>United States</td>\n",
              "      <td>Henderson</td>\n",
              "      <td>...</td>\n",
              "      <td>42420</td>\n",
              "      <td>South</td>\n",
              "      <td>FUR-CH-10000454</td>\n",
              "      <td>Furniture</td>\n",
              "      <td>Chairs</td>\n",
              "      <td>Hon Deluxe Fabric Upholstered Stacking Chairs,...</td>\n",
              "      <td>731.9400</td>\n",
              "      <td>3</td>\n",
              "      <td>0.00</td>\n",
              "      <td>219.5820</td>\n",
              "    </tr>\n",
              "    <tr>\n",
              "      <th>2</th>\n",
              "      <td>3</td>\n",
              "      <td>CA-2016-138688</td>\n",
              "      <td>6/12/2016</td>\n",
              "      <td>6/16/2016</td>\n",
              "      <td>Second Class</td>\n",
              "      <td>DV-13045</td>\n",
              "      <td>Darrin Van Huff</td>\n",
              "      <td>Corporate</td>\n",
              "      <td>United States</td>\n",
              "      <td>Los Angeles</td>\n",
              "      <td>...</td>\n",
              "      <td>90036</td>\n",
              "      <td>West</td>\n",
              "      <td>OFF-LA-10000240</td>\n",
              "      <td>Office Supplies</td>\n",
              "      <td>Labels</td>\n",
              "      <td>Self-Adhesive Address Labels for Typewriters b...</td>\n",
              "      <td>14.6200</td>\n",
              "      <td>2</td>\n",
              "      <td>0.00</td>\n",
              "      <td>6.8714</td>\n",
              "    </tr>\n",
              "    <tr>\n",
              "      <th>3</th>\n",
              "      <td>4</td>\n",
              "      <td>US-2015-108966</td>\n",
              "      <td>10/11/2015</td>\n",
              "      <td>10/18/2015</td>\n",
              "      <td>Standard Class</td>\n",
              "      <td>SO-20335</td>\n",
              "      <td>Sean O'Donnell</td>\n",
              "      <td>Consumer</td>\n",
              "      <td>United States</td>\n",
              "      <td>Fort Lauderdale</td>\n",
              "      <td>...</td>\n",
              "      <td>33311</td>\n",
              "      <td>South</td>\n",
              "      <td>FUR-TA-10000577</td>\n",
              "      <td>Furniture</td>\n",
              "      <td>Tables</td>\n",
              "      <td>Bretford CR4500 Series Slim Rectangular Table</td>\n",
              "      <td>957.5775</td>\n",
              "      <td>5</td>\n",
              "      <td>0.45</td>\n",
              "      <td>-383.0310</td>\n",
              "    </tr>\n",
              "    <tr>\n",
              "      <th>4</th>\n",
              "      <td>5</td>\n",
              "      <td>US-2015-108966</td>\n",
              "      <td>10/11/2015</td>\n",
              "      <td>10/18/2015</td>\n",
              "      <td>Standard Class</td>\n",
              "      <td>SO-20335</td>\n",
              "      <td>Sean O'Donnell</td>\n",
              "      <td>Consumer</td>\n",
              "      <td>United States</td>\n",
              "      <td>Fort Lauderdale</td>\n",
              "      <td>...</td>\n",
              "      <td>33311</td>\n",
              "      <td>South</td>\n",
              "      <td>OFF-ST-10000760</td>\n",
              "      <td>Office Supplies</td>\n",
              "      <td>Storage</td>\n",
              "      <td>Eldon Fold 'N Roll Cart System</td>\n",
              "      <td>22.3680</td>\n",
              "      <td>2</td>\n",
              "      <td>0.20</td>\n",
              "      <td>2.5164</td>\n",
              "    </tr>\n",
              "    <tr>\n",
              "      <th>...</th>\n",
              "      <td>...</td>\n",
              "      <td>...</td>\n",
              "      <td>...</td>\n",
              "      <td>...</td>\n",
              "      <td>...</td>\n",
              "      <td>...</td>\n",
              "      <td>...</td>\n",
              "      <td>...</td>\n",
              "      <td>...</td>\n",
              "      <td>...</td>\n",
              "      <td>...</td>\n",
              "      <td>...</td>\n",
              "      <td>...</td>\n",
              "      <td>...</td>\n",
              "      <td>...</td>\n",
              "      <td>...</td>\n",
              "      <td>...</td>\n",
              "      <td>...</td>\n",
              "      <td>...</td>\n",
              "      <td>...</td>\n",
              "      <td>...</td>\n",
              "    </tr>\n",
              "    <tr>\n",
              "      <th>95</th>\n",
              "      <td>96</td>\n",
              "      <td>US-2017-109484</td>\n",
              "      <td>11/6/2017</td>\n",
              "      <td>11/12/2017</td>\n",
              "      <td>Standard Class</td>\n",
              "      <td>RB-19705</td>\n",
              "      <td>Roger Barcio</td>\n",
              "      <td>Home Office</td>\n",
              "      <td>United States</td>\n",
              "      <td>Portland</td>\n",
              "      <td>...</td>\n",
              "      <td>97206</td>\n",
              "      <td>West</td>\n",
              "      <td>OFF-BI-10004738</td>\n",
              "      <td>Office Supplies</td>\n",
              "      <td>Binders</td>\n",
              "      <td>Flexible Leather- Look Classic Collection Ring...</td>\n",
              "      <td>5.6820</td>\n",
              "      <td>1</td>\n",
              "      <td>0.70</td>\n",
              "      <td>-3.7880</td>\n",
              "    </tr>\n",
              "    <tr>\n",
              "      <th>96</th>\n",
              "      <td>97</td>\n",
              "      <td>CA-2017-161018</td>\n",
              "      <td>11/9/2017</td>\n",
              "      <td>11/11/2017</td>\n",
              "      <td>Second Class</td>\n",
              "      <td>PN-18775</td>\n",
              "      <td>Parhena Norris</td>\n",
              "      <td>Home Office</td>\n",
              "      <td>United States</td>\n",
              "      <td>New York City</td>\n",
              "      <td>...</td>\n",
              "      <td>10009</td>\n",
              "      <td>East</td>\n",
              "      <td>FUR-FU-10000629</td>\n",
              "      <td>Furniture</td>\n",
              "      <td>Furnishings</td>\n",
              "      <td>9-3/4 Diameter Round Wall Clock</td>\n",
              "      <td>96.5300</td>\n",
              "      <td>7</td>\n",
              "      <td>0.00</td>\n",
              "      <td>40.5426</td>\n",
              "    </tr>\n",
              "    <tr>\n",
              "      <th>97</th>\n",
              "      <td>98</td>\n",
              "      <td>CA-2017-157833</td>\n",
              "      <td>6/17/2017</td>\n",
              "      <td>6/20/2017</td>\n",
              "      <td>First Class</td>\n",
              "      <td>KD-16345</td>\n",
              "      <td>Katherine Ducich</td>\n",
              "      <td>Consumer</td>\n",
              "      <td>United States</td>\n",
              "      <td>San Francisco</td>\n",
              "      <td>...</td>\n",
              "      <td>94122</td>\n",
              "      <td>West</td>\n",
              "      <td>OFF-BI-10001721</td>\n",
              "      <td>Office Supplies</td>\n",
              "      <td>Binders</td>\n",
              "      <td>Trimflex Flexible Post Binders</td>\n",
              "      <td>51.3120</td>\n",
              "      <td>3</td>\n",
              "      <td>0.20</td>\n",
              "      <td>17.9592</td>\n",
              "    </tr>\n",
              "    <tr>\n",
              "      <th>98</th>\n",
              "      <td>99</td>\n",
              "      <td>CA-2016-149223</td>\n",
              "      <td>9/6/2016</td>\n",
              "      <td>9/11/2016</td>\n",
              "      <td>Standard Class</td>\n",
              "      <td>ER-13855</td>\n",
              "      <td>Elpida Rittenbach</td>\n",
              "      <td>Corporate</td>\n",
              "      <td>United States</td>\n",
              "      <td>Saint Paul</td>\n",
              "      <td>...</td>\n",
              "      <td>55106</td>\n",
              "      <td>Central</td>\n",
              "      <td>OFF-AP-10000358</td>\n",
              "      <td>Office Supplies</td>\n",
              "      <td>Appliances</td>\n",
              "      <td>Fellowes Basic Home/Office Series Surge Protec...</td>\n",
              "      <td>77.8800</td>\n",
              "      <td>6</td>\n",
              "      <td>0.00</td>\n",
              "      <td>22.5852</td>\n",
              "    </tr>\n",
              "    <tr>\n",
              "      <th>99</th>\n",
              "      <td>100</td>\n",
              "      <td>CA-2016-158568</td>\n",
              "      <td>8/29/2016</td>\n",
              "      <td>9/2/2016</td>\n",
              "      <td>Standard Class</td>\n",
              "      <td>RB-19465</td>\n",
              "      <td>Rick Bensley</td>\n",
              "      <td>Home Office</td>\n",
              "      <td>United States</td>\n",
              "      <td>Chicago</td>\n",
              "      <td>...</td>\n",
              "      <td>60610</td>\n",
              "      <td>Central</td>\n",
              "      <td>OFF-PA-10003256</td>\n",
              "      <td>Office Supplies</td>\n",
              "      <td>Paper</td>\n",
              "      <td>Avery Personal Creations Heavyweight Cards</td>\n",
              "      <td>64.6240</td>\n",
              "      <td>7</td>\n",
              "      <td>0.20</td>\n",
              "      <td>22.6184</td>\n",
              "    </tr>\n",
              "  </tbody>\n",
              "</table>\n",
              "<p>100 rows × 21 columns</p>\n",
              "</div>"
            ],
            "text/plain": [
              "    Row ID        Order ID  Order Date   Ship Date       Ship Mode  \\\n",
              "0        1  CA-2016-152156   11/8/2016  11/11/2016    Second Class   \n",
              "1        2  CA-2016-152156   11/8/2016  11/11/2016    Second Class   \n",
              "2        3  CA-2016-138688   6/12/2016   6/16/2016    Second Class   \n",
              "3        4  US-2015-108966  10/11/2015  10/18/2015  Standard Class   \n",
              "4        5  US-2015-108966  10/11/2015  10/18/2015  Standard Class   \n",
              "..     ...             ...         ...         ...             ...   \n",
              "95      96  US-2017-109484   11/6/2017  11/12/2017  Standard Class   \n",
              "96      97  CA-2017-161018   11/9/2017  11/11/2017    Second Class   \n",
              "97      98  CA-2017-157833   6/17/2017   6/20/2017     First Class   \n",
              "98      99  CA-2016-149223    9/6/2016   9/11/2016  Standard Class   \n",
              "99     100  CA-2016-158568   8/29/2016    9/2/2016  Standard Class   \n",
              "\n",
              "   Customer ID      Customer Name      Segment        Country  \\\n",
              "0     CG-12520        Claire Gute     Consumer  United States   \n",
              "1     CG-12520        Claire Gute     Consumer  United States   \n",
              "2     DV-13045    Darrin Van Huff    Corporate  United States   \n",
              "3     SO-20335     Sean O'Donnell     Consumer  United States   \n",
              "4     SO-20335     Sean O'Donnell     Consumer  United States   \n",
              "..         ...                ...          ...            ...   \n",
              "95    RB-19705       Roger Barcio  Home Office  United States   \n",
              "96    PN-18775     Parhena Norris  Home Office  United States   \n",
              "97    KD-16345   Katherine Ducich     Consumer  United States   \n",
              "98    ER-13855  Elpida Rittenbach    Corporate  United States   \n",
              "99    RB-19465       Rick Bensley  Home Office  United States   \n",
              "\n",
              "               City  ... Postal Code   Region       Product ID  \\\n",
              "0         Henderson  ...       42420    South  FUR-BO-10001798   \n",
              "1         Henderson  ...       42420    South  FUR-CH-10000454   \n",
              "2       Los Angeles  ...       90036     West  OFF-LA-10000240   \n",
              "3   Fort Lauderdale  ...       33311    South  FUR-TA-10000577   \n",
              "4   Fort Lauderdale  ...       33311    South  OFF-ST-10000760   \n",
              "..              ...  ...         ...      ...              ...   \n",
              "95         Portland  ...       97206     West  OFF-BI-10004738   \n",
              "96    New York City  ...       10009     East  FUR-FU-10000629   \n",
              "97    San Francisco  ...       94122     West  OFF-BI-10001721   \n",
              "98       Saint Paul  ...       55106  Central  OFF-AP-10000358   \n",
              "99          Chicago  ...       60610  Central  OFF-PA-10003256   \n",
              "\n",
              "           Category Sub-Category  \\\n",
              "0         Furniture    Bookcases   \n",
              "1         Furniture       Chairs   \n",
              "2   Office Supplies       Labels   \n",
              "3         Furniture       Tables   \n",
              "4   Office Supplies      Storage   \n",
              "..              ...          ...   \n",
              "95  Office Supplies      Binders   \n",
              "96        Furniture  Furnishings   \n",
              "97  Office Supplies      Binders   \n",
              "98  Office Supplies   Appliances   \n",
              "99  Office Supplies        Paper   \n",
              "\n",
              "                                         Product Name     Sales  Quantity  \\\n",
              "0                   Bush Somerset Collection Bookcase  261.9600         2   \n",
              "1   Hon Deluxe Fabric Upholstered Stacking Chairs,...  731.9400         3   \n",
              "2   Self-Adhesive Address Labels for Typewriters b...   14.6200         2   \n",
              "3       Bretford CR4500 Series Slim Rectangular Table  957.5775         5   \n",
              "4                      Eldon Fold 'N Roll Cart System   22.3680         2   \n",
              "..                                                ...       ...       ...   \n",
              "95  Flexible Leather- Look Classic Collection Ring...    5.6820         1   \n",
              "96                    9-3/4 Diameter Round Wall Clock   96.5300         7   \n",
              "97                     Trimflex Flexible Post Binders   51.3120         3   \n",
              "98  Fellowes Basic Home/Office Series Surge Protec...   77.8800         6   \n",
              "99         Avery Personal Creations Heavyweight Cards   64.6240         7   \n",
              "\n",
              "    Discount    Profit  \n",
              "0       0.00   41.9136  \n",
              "1       0.00  219.5820  \n",
              "2       0.00    6.8714  \n",
              "3       0.45 -383.0310  \n",
              "4       0.20    2.5164  \n",
              "..       ...       ...  \n",
              "95      0.70   -3.7880  \n",
              "96      0.00   40.5426  \n",
              "97      0.20   17.9592  \n",
              "98      0.00   22.5852  \n",
              "99      0.20   22.6184  \n",
              "\n",
              "[100 rows x 21 columns]"
            ]
          },
          "execution_count": 26,
          "metadata": {},
          "output_type": "execute_result"
        }
      ],
      "source": [
        "df.head(100)"
      ]
    },
    {
      "cell_type": "code",
      "execution_count": 27,
      "metadata": {
        "id": "bBFtFI_saNA9"
      },
      "outputs": [],
      "source": [
        "#types of customers"
      ]
    },
    {
      "cell_type": "code",
      "execution_count": 28,
      "metadata": {
        "colab": {
          "base_uri": "https://localhost:8080/"
        },
        "id": "m3CiaV68aSt5",
        "outputId": "8c322d82-e2fe-4dd4-85ee-61c93b587ff4"
      },
      "outputs": [
        {
          "name": "stdout",
          "output_type": "stream",
          "text": [
            "['Consumer' 'Corporate' 'Home Office']\n"
          ]
        }
      ],
      "source": [
        "types_of_customers = df['Segment'].unique()\n",
        "print (types_of_customers)"
      ]
    },
    {
      "cell_type": "code",
      "execution_count": 29,
      "metadata": {
        "id": "AjfDJUyLb36z"
      },
      "outputs": [],
      "source": [
        "number_of_customers = df['Segment'].value_counts().reset_index()\n",
        "number_of_customers = number_of_customers.rename(columns={'Segment' : 'Type Of Customer'})"
      ]
    },
    {
      "cell_type": "code",
      "execution_count": 30,
      "metadata": {
        "colab": {
          "base_uri": "https://localhost:8080/"
        },
        "id": "mmXUUvJxcj_j",
        "outputId": "b6d5194e-cf4d-4cfa-b809-86d23b29f788"
      },
      "outputs": [
        {
          "name": "stdout",
          "output_type": "stream",
          "text": [
            "  Type Of Customer  count\n",
            "0         Consumer   5191\n",
            "1        Corporate   3020\n",
            "2      Home Office   1783\n"
          ]
        }
      ],
      "source": [
        "print (number_of_customers)"
      ]
    },
    {
      "cell_type": "code",
      "execution_count": 31,
      "metadata": {
        "colab": {
          "base_uri": "https://localhost:8080/",
          "height": 562
        },
        "id": "mUPu5M91cmbT",
        "outputId": "8448f805-4a77-4586-bfe8-60a3975c26eb"
      },
      "outputs": [
        {
          "data": {
            "text/plain": [
              "([<matplotlib.patches.Wedge at 0x1f58097b770>,\n",
              "  <matplotlib.patches.Wedge at 0x1f58057d590>,\n",
              "  <matplotlib.patches.Wedge at 0x1f58057d950>],\n",
              " [Text(-0.06704023782468152, 1.0979551933081833, 'Consumer'),\n",
              "  Text(-0.5268842285426254, -0.9656049967316049, 'Corporate'),\n",
              "  Text(0.9316986876474538, -0.5847542692755757, 'Home Office')],\n",
              " [Text(-0.03656740244982628, 0.5988846508953727, '51.9%'),\n",
              "  Text(-0.28739139738688657, -0.5266936345808754, '30.2%'),\n",
              "  Text(0.5081992841713383, -0.318956874150314, '17.8%')])"
            ]
          },
          "execution_count": 31,
          "metadata": {},
          "output_type": "execute_result"
        },
        {
          "data": {
            "image/png": "[encoded data removed]",
            "text/plain": [
              "<Figure size 640x480 with 1 Axes>"
            ]
          },
          "metadata": {},
          "output_type": "display_data"
        }
      ],
      "source": [
        "plt.pie(number_of_customers['count'], labels=number_of_customers['Type Of Customer'], autopct='%1.1f%%')"
      ]
    },
    {
      "cell_type": "code",
      "execution_count": 32,
      "metadata": {
        "colab": {
          "base_uri": "https://localhost:8080/",
          "height": 532
        },
        "id": "riVBN39wc9EB",
        "outputId": "1a1dc33c-6eda-4b61-f0f1-56dd4a48a5ff"
      },
      "outputs": [
        {
          "name": "stdout",
          "output_type": "stream",
          "text": [
            "  Type Of Customer   Total Sales\n",
            "0         Consumer  1.161401e+06\n",
            "1        Corporate  7.061464e+05\n",
            "2      Home Office  4.296531e+05\n"
          ]
        },
        {
          "data": {
            "text/plain": [
              "<BarContainer object of 3 artists>"
            ]
          },
          "execution_count": 32,
          "metadata": {},
          "output_type": "execute_result"
        },
        {
          "data": {
            "image/png": "[encoded data removed]",
            "text/plain": [
              "<Figure size 640x480 with 1 Axes>"
            ]
          },
          "metadata": {},
          "output_type": "display_data"
        }
      ],
      "source": [
        "sales_per_segment = df.groupby('Segment')['Sales'].sum().reset_index()\n",
        "sales_per_segment = sales_per_segment.rename(columns={'Segment' : 'Type Of Customer', 'Sales' : 'Total Sales'})\n",
        "\n",
        "print(sales_per_segment)\n",
        "\n",
        "plt.bar(sales_per_segment['Type Of Customer'], sales_per_segment['Total Sales'])"
      ]
    },
    {
      "cell_type": "code",
      "execution_count": 33,
      "metadata": {
        "colab": {
          "base_uri": "https://localhost:8080/",
          "height": 562
        },
        "id": "fbrtNQcKe572",
        "outputId": "27085e15-9fc3-48dc-d891-4428ec85ca0f"
      },
      "outputs": [
        {
          "data": {
            "text/plain": [
              "([<matplotlib.patches.Wedge at 0x1f5805f79d0>,\n",
              "  <matplotlib.patches.Wedge at 0x1f5805f7d90>,\n",
              "  <matplotlib.patches.Wedge at 0x1f580620190>],\n",
              " [Text(-0.019255799354537615, 1.099831448082486, 'Consumer'),\n",
              "  Text(-0.5936664965175892, -0.9260454043471797, 'Corporate'),\n",
              "  Text(0.9155113397403079, -0.6097860172280986, 'Home Office')],\n",
              " [Text(-0.010503163284293245, 0.5999080625904468, '50.6%'),\n",
              "  Text(-0.323818089009594, -0.5051156750984616, '30.7%'),\n",
              "  Text(0.4993698216765315, -0.33261055485169005, '18.7%')])"
            ]
          },
          "execution_count": 33,
          "metadata": {},
          "output_type": "execute_result"
        },
        {
          "data": {
            "image/png": "[encoded data removed]",
            "text/plain": [
              "<Figure size 640x480 with 1 Axes>"
            ]
          },
          "metadata": {},
          "output_type": "display_data"
        }
      ],
      "source": [
        "plt.pie(sales_per_segment['Total Sales'], labels=sales_per_segment['Type Of Customer'], autopct='%1.1f%%')"
      ]
    },
    {
      "cell_type": "code",
      "execution_count": 34,
      "metadata": {
        "colab": {
          "base_uri": "https://localhost:8080/",
          "height": 389
        },
        "id": "z5jxvRYcfdhA",
        "outputId": "7ab4e711-dfc7-4a08-91d0-6611ecfecfe4"
      },
      "outputs": [
        {
          "data": {
            "text/html": [
              "<div>\n",
              "<style scoped>\n",
              "    .dataframe tbody tr th:only-of-type {\n",
              "        vertical-align: middle;\n",
              "    }\n",
              "\n",
              "    .dataframe tbody tr th {\n",
              "        vertical-align: top;\n",
              "    }\n",
              "\n",
              "    .dataframe thead th {\n",
              "        text-align: right;\n",
              "    }\n",
              "</style>\n",
              "<table border=\"1\" class=\"dataframe\">\n",
              "  <thead>\n",
              "    <tr style=\"text-align: right;\">\n",
              "      <th></th>\n",
              "      <th>Row ID</th>\n",
              "      <th>Order ID</th>\n",
              "      <th>Order Date</th>\n",
              "      <th>Ship Date</th>\n",
              "      <th>Ship Mode</th>\n",
              "      <th>Customer ID</th>\n",
              "      <th>Customer Name</th>\n",
              "      <th>Segment</th>\n",
              "      <th>Country</th>\n",
              "      <th>City</th>\n",
              "      <th>...</th>\n",
              "      <th>Postal Code</th>\n",
              "      <th>Region</th>\n",
              "      <th>Product ID</th>\n",
              "      <th>Category</th>\n",
              "      <th>Sub-Category</th>\n",
              "      <th>Product Name</th>\n",
              "      <th>Sales</th>\n",
              "      <th>Quantity</th>\n",
              "      <th>Discount</th>\n",
              "      <th>Profit</th>\n",
              "    </tr>\n",
              "  </thead>\n",
              "  <tbody>\n",
              "    <tr>\n",
              "      <th>0</th>\n",
              "      <td>1</td>\n",
              "      <td>CA-2016-152156</td>\n",
              "      <td>11/8/2016</td>\n",
              "      <td>11/11/2016</td>\n",
              "      <td>Second Class</td>\n",
              "      <td>CG-12520</td>\n",
              "      <td>Claire Gute</td>\n",
              "      <td>Consumer</td>\n",
              "      <td>United States</td>\n",
              "      <td>Henderson</td>\n",
              "      <td>...</td>\n",
              "      <td>42420</td>\n",
              "      <td>South</td>\n",
              "      <td>FUR-BO-10001798</td>\n",
              "      <td>Furniture</td>\n",
              "      <td>Bookcases</td>\n",
              "      <td>Bush Somerset Collection Bookcase</td>\n",
              "      <td>261.96</td>\n",
              "      <td>2</td>\n",
              "      <td>0.0</td>\n",
              "      <td>41.9136</td>\n",
              "    </tr>\n",
              "    <tr>\n",
              "      <th>1</th>\n",
              "      <td>2</td>\n",
              "      <td>CA-2016-152156</td>\n",
              "      <td>11/8/2016</td>\n",
              "      <td>11/11/2016</td>\n",
              "      <td>Second Class</td>\n",
              "      <td>CG-12520</td>\n",
              "      <td>Claire Gute</td>\n",
              "      <td>Consumer</td>\n",
              "      <td>United States</td>\n",
              "      <td>Henderson</td>\n",
              "      <td>...</td>\n",
              "      <td>42420</td>\n",
              "      <td>South</td>\n",
              "      <td>FUR-CH-10000454</td>\n",
              "      <td>Furniture</td>\n",
              "      <td>Chairs</td>\n",
              "      <td>Hon Deluxe Fabric Upholstered Stacking Chairs,...</td>\n",
              "      <td>731.94</td>\n",
              "      <td>3</td>\n",
              "      <td>0.0</td>\n",
              "      <td>219.5820</td>\n",
              "    </tr>\n",
              "    <tr>\n",
              "      <th>2</th>\n",
              "      <td>3</td>\n",
              "      <td>CA-2016-138688</td>\n",
              "      <td>6/12/2016</td>\n",
              "      <td>6/16/2016</td>\n",
              "      <td>Second Class</td>\n",
              "      <td>DV-13045</td>\n",
              "      <td>Darrin Van Huff</td>\n",
              "      <td>Corporate</td>\n",
              "      <td>United States</td>\n",
              "      <td>Los Angeles</td>\n",
              "      <td>...</td>\n",
              "      <td>90036</td>\n",
              "      <td>West</td>\n",
              "      <td>OFF-LA-10000240</td>\n",
              "      <td>Office Supplies</td>\n",
              "      <td>Labels</td>\n",
              "      <td>Self-Adhesive Address Labels for Typewriters b...</td>\n",
              "      <td>14.62</td>\n",
              "      <td>2</td>\n",
              "      <td>0.0</td>\n",
              "      <td>6.8714</td>\n",
              "    </tr>\n",
              "  </tbody>\n",
              "</table>\n",
              "<p>3 rows × 21 columns</p>\n",
              "</div>"
            ],
            "text/plain": [
              "   Row ID        Order ID Order Date   Ship Date     Ship Mode Customer ID  \\\n",
              "0       1  CA-2016-152156  11/8/2016  11/11/2016  Second Class    CG-12520   \n",
              "1       2  CA-2016-152156  11/8/2016  11/11/2016  Second Class    CG-12520   \n",
              "2       3  CA-2016-138688  6/12/2016   6/16/2016  Second Class    DV-13045   \n",
              "\n",
              "     Customer Name    Segment        Country         City  ... Postal Code  \\\n",
              "0      Claire Gute   Consumer  United States    Henderson  ...       42420   \n",
              "1      Claire Gute   Consumer  United States    Henderson  ...       42420   \n",
              "2  Darrin Van Huff  Corporate  United States  Los Angeles  ...       90036   \n",
              "\n",
              "   Region       Product ID         Category Sub-Category  \\\n",
              "0   South  FUR-BO-10001798        Furniture    Bookcases   \n",
              "1   South  FUR-CH-10000454        Furniture       Chairs   \n",
              "2    West  OFF-LA-10000240  Office Supplies       Labels   \n",
              "\n",
              "                                        Product Name   Sales  Quantity  \\\n",
              "0                  Bush Somerset Collection Bookcase  261.96         2   \n",
              "1  Hon Deluxe Fabric Upholstered Stacking Chairs,...  731.94         3   \n",
              "2  Self-Adhesive Address Labels for Typewriters b...   14.62         2   \n",
              "\n",
              "   Discount    Profit  \n",
              "0       0.0   41.9136  \n",
              "1       0.0  219.5820  \n",
              "2       0.0    6.8714  \n",
              "\n",
              "[3 rows x 21 columns]"
            ]
          },
          "execution_count": 34,
          "metadata": {},
          "output_type": "execute_result"
        }
      ],
      "source": [
        "df.head(3)"
      ]
    },
    {
      "cell_type": "code",
      "execution_count": 35,
      "metadata": {
        "id": "VnGoU5WthwX0"
      },
      "outputs": [],
      "source": [
        "customers_order_frequency = df.groupby(['Customer ID', 'Customer Name', 'Segment'])['Order ID'].count().reset_index()"
      ]
    },
    {
      "cell_type": "code",
      "execution_count": 36,
      "metadata": {
        "id": "E1N8gYnaiMwG"
      },
      "outputs": [],
      "source": [
        "customers_order_frequency.rename(columns={'Order ID' : 'Total Orders'}, inplace = True)"
      ]
    },
    {
      "cell_type": "code",
      "execution_count": 37,
      "metadata": {
        "id": "OcEGO6Vvib3p"
      },
      "outputs": [],
      "source": [
        "repeat_customers = customers_order_frequency[customers_order_frequency['Total Orders'] >= 1]"
      ]
    },
    {
      "cell_type": "code",
      "execution_count": 38,
      "metadata": {
        "id": "fe9ixu_oiooA"
      },
      "outputs": [],
      "source": [
        "repeat_customers_sorted = repeat_customers.sort_values(by='Total Orders', ascending = False)"
      ]
    },
    {
      "cell_type": "code",
      "execution_count": 39,
      "metadata": {
        "colab": {
          "base_uri": "https://localhost:8080/"
        },
        "id": "2YcYmjuaizv8",
        "outputId": "1fe35620-9e25-41f2-8f8a-531e5e6a1374"
      },
      "outputs": [
        {
          "name": "stdout",
          "output_type": "stream",
          "text": [
            "   Customer ID        Customer Name      Segment  Total Orders\n",
            "0     WB-21850        William Brown     Consumer            37\n",
            "1     MA-17560         Matt Abelman  Home Office            34\n",
            "2     JL-15835             John Lee     Consumer            34\n",
            "3     PP-18955           Paul Prost  Home Office            34\n",
            "4     EH-13765         Edward Hooks    Corporate            32\n",
            "5     JD-15895     Jonathan Doherty    Corporate            32\n",
            "6     SV-20365          Seth Vernon     Consumer            32\n",
            "7     CK-12205  Chloris Kastensmidt     Consumer            32\n",
            "8     AP-10915       Arthur Prichep     Consumer            31\n",
            "9     EP-13915           Emily Phan     Consumer            31\n",
            "10    ZC-21910     Zuschuss Carroll     Consumer            31\n",
            "11    LC-16870        Lena Cacioppo     Consumer            30\n"
          ]
        }
      ],
      "source": [
        "print(repeat_customers_sorted.head(12).reset_index(drop=True))"
      ]
    },
    {
      "cell_type": "code",
      "execution_count": 40,
      "metadata": {
        "id": "-4UEIEiijA6V"
      },
      "outputs": [],
      "source": [
        "customer_sales = df.groupby(['Customer ID', 'Customer Name', 'Segment'])['Sales'].sum().reset_index()"
      ]
    },
    {
      "cell_type": "code",
      "execution_count": 41,
      "metadata": {
        "id": "-W4jNZlRjrn5"
      },
      "outputs": [],
      "source": [
        "top_spenders = customer_sales.sort_values(by='Sales', ascending=False)"
      ]
    },
    {
      "cell_type": "code",
      "execution_count": 42,
      "metadata": {
        "colab": {
          "base_uri": "https://localhost:8080/"
        },
        "id": "pafx-xTrj1Gv",
        "outputId": "6c08b626-2f52-4b20-b98d-27ba7903b7b6"
      },
      "outputs": [
        {
          "name": "stdout",
          "output_type": "stream",
          "text": [
            "   Customer ID       Customer Name      Segment      Sales\n",
            "0     SM-20320         Sean Miller  Home Office  25043.050\n",
            "1     TC-20980        Tamara Chand    Corporate  19052.218\n",
            "2     RB-19360        Raymond Buch     Consumer  15117.339\n",
            "3     TA-21385        Tom Ashbrook  Home Office  14595.620\n",
            "4     AB-10105       Adrian Barton     Consumer  14473.571\n",
            "5     KL-16645        Ken Lonsdale     Consumer  14175.229\n",
            "6     SC-20095        Sanjit Chand     Consumer  14142.334\n",
            "7     HL-15040        Hunter Lopez     Consumer  12873.298\n",
            "8     SE-20110        Sanjit Engle     Consumer  12209.438\n",
            "9     CC-12370  Christopher Conant     Consumer  12129.072\n",
            "10    TS-21370        Todd Sumrall    Corporate  11891.751\n",
            "11    GT-14710           Greg Tran     Consumer  11820.120\n"
          ]
        }
      ],
      "source": [
        "print(top_spenders.head(12).reset_index(drop=True))"
      ]
    },
    {
      "cell_type": "code",
      "execution_count": 43,
      "metadata": {
        "colab": {
          "base_uri": "https://localhost:8080/"
        },
        "id": "fsW4VjSRj69f",
        "outputId": "5799abc4-d70f-4b79-c7a8-ed1a850b70ea"
      },
      "outputs": [
        {
          "name": "stdout",
          "output_type": "stream",
          "text": [
            "['Second Class' 'Standard Class' 'First Class' 'Same Day']\n"
          ]
        }
      ],
      "source": [
        "types_of_customers = df['Ship Mode'].unique()\n",
        "print(types_of_customers)"
      ]
    },
    {
      "cell_type": "code",
      "execution_count": 44,
      "metadata": {
        "colab": {
          "base_uri": "https://localhost:8080/",
          "height": 955
        },
        "id": "vrthwFDmmVMS",
        "outputId": "902e9e0c-8c5a-4d53-8a3d-a3f1830e83ad"
      },
      "outputs": [
        {
          "data": {
            "text/html": [
              "<div>\n",
              "<style scoped>\n",
              "    .dataframe tbody tr th:only-of-type {\n",
              "        vertical-align: middle;\n",
              "    }\n",
              "\n",
              "    .dataframe tbody tr th {\n",
              "        vertical-align: top;\n",
              "    }\n",
              "\n",
              "    .dataframe thead th {\n",
              "        text-align: right;\n",
              "    }\n",
              "</style>\n",
              "<table border=\"1\" class=\"dataframe\">\n",
              "  <thead>\n",
              "    <tr style=\"text-align: right;\">\n",
              "      <th></th>\n",
              "      <th>Row ID</th>\n",
              "      <th>Order ID</th>\n",
              "      <th>Order Date</th>\n",
              "      <th>Ship Date</th>\n",
              "      <th>Ship Mode</th>\n",
              "      <th>Customer ID</th>\n",
              "      <th>Customer Name</th>\n",
              "      <th>Segment</th>\n",
              "      <th>Country</th>\n",
              "      <th>City</th>\n",
              "      <th>...</th>\n",
              "      <th>Postal Code</th>\n",
              "      <th>Region</th>\n",
              "      <th>Product ID</th>\n",
              "      <th>Category</th>\n",
              "      <th>Sub-Category</th>\n",
              "      <th>Product Name</th>\n",
              "      <th>Sales</th>\n",
              "      <th>Quantity</th>\n",
              "      <th>Discount</th>\n",
              "      <th>Profit</th>\n",
              "    </tr>\n",
              "  </thead>\n",
              "  <tbody>\n",
              "    <tr>\n",
              "      <th>0</th>\n",
              "      <td>1</td>\n",
              "      <td>CA-2016-152156</td>\n",
              "      <td>11/8/2016</td>\n",
              "      <td>11/11/2016</td>\n",
              "      <td>Second Class</td>\n",
              "      <td>CG-12520</td>\n",
              "      <td>Claire Gute</td>\n",
              "      <td>Consumer</td>\n",
              "      <td>United States</td>\n",
              "      <td>Henderson</td>\n",
              "      <td>...</td>\n",
              "      <td>42420</td>\n",
              "      <td>South</td>\n",
              "      <td>FUR-BO-10001798</td>\n",
              "      <td>Furniture</td>\n",
              "      <td>Bookcases</td>\n",
              "      <td>Bush Somerset Collection Bookcase</td>\n",
              "      <td>261.9600</td>\n",
              "      <td>2</td>\n",
              "      <td>0.00</td>\n",
              "      <td>41.9136</td>\n",
              "    </tr>\n",
              "    <tr>\n",
              "      <th>1</th>\n",
              "      <td>2</td>\n",
              "      <td>CA-2016-152156</td>\n",
              "      <td>11/8/2016</td>\n",
              "      <td>11/11/2016</td>\n",
              "      <td>Second Class</td>\n",
              "      <td>CG-12520</td>\n",
              "      <td>Claire Gute</td>\n",
              "      <td>Consumer</td>\n",
              "      <td>United States</td>\n",
              "      <td>Henderson</td>\n",
              "      <td>...</td>\n",
              "      <td>42420</td>\n",
              "      <td>South</td>\n",
              "      <td>FUR-CH-10000454</td>\n",
              "      <td>Furniture</td>\n",
              "      <td>Chairs</td>\n",
              "      <td>Hon Deluxe Fabric Upholstered Stacking Chairs,...</td>\n",
              "      <td>731.9400</td>\n",
              "      <td>3</td>\n",
              "      <td>0.00</td>\n",
              "      <td>219.5820</td>\n",
              "    </tr>\n",
              "    <tr>\n",
              "      <th>2</th>\n",
              "      <td>3</td>\n",
              "      <td>CA-2016-138688</td>\n",
              "      <td>6/12/2016</td>\n",
              "      <td>6/16/2016</td>\n",
              "      <td>Second Class</td>\n",
              "      <td>DV-13045</td>\n",
              "      <td>Darrin Van Huff</td>\n",
              "      <td>Corporate</td>\n",
              "      <td>United States</td>\n",
              "      <td>Los Angeles</td>\n",
              "      <td>...</td>\n",
              "      <td>90036</td>\n",
              "      <td>West</td>\n",
              "      <td>OFF-LA-10000240</td>\n",
              "      <td>Office Supplies</td>\n",
              "      <td>Labels</td>\n",
              "      <td>Self-Adhesive Address Labels for Typewriters b...</td>\n",
              "      <td>14.6200</td>\n",
              "      <td>2</td>\n",
              "      <td>0.00</td>\n",
              "      <td>6.8714</td>\n",
              "    </tr>\n",
              "    <tr>\n",
              "      <th>3</th>\n",
              "      <td>4</td>\n",
              "      <td>US-2015-108966</td>\n",
              "      <td>10/11/2015</td>\n",
              "      <td>10/18/2015</td>\n",
              "      <td>Standard Class</td>\n",
              "      <td>SO-20335</td>\n",
              "      <td>Sean O'Donnell</td>\n",
              "      <td>Consumer</td>\n",
              "      <td>United States</td>\n",
              "      <td>Fort Lauderdale</td>\n",
              "      <td>...</td>\n",
              "      <td>33311</td>\n",
              "      <td>South</td>\n",
              "      <td>FUR-TA-10000577</td>\n",
              "      <td>Furniture</td>\n",
              "      <td>Tables</td>\n",
              "      <td>Bretford CR4500 Series Slim Rectangular Table</td>\n",
              "      <td>957.5775</td>\n",
              "      <td>5</td>\n",
              "      <td>0.45</td>\n",
              "      <td>-383.0310</td>\n",
              "    </tr>\n",
              "    <tr>\n",
              "      <th>4</th>\n",
              "      <td>5</td>\n",
              "      <td>US-2015-108966</td>\n",
              "      <td>10/11/2015</td>\n",
              "      <td>10/18/2015</td>\n",
              "      <td>Standard Class</td>\n",
              "      <td>SO-20335</td>\n",
              "      <td>Sean O'Donnell</td>\n",
              "      <td>Consumer</td>\n",
              "      <td>United States</td>\n",
              "      <td>Fort Lauderdale</td>\n",
              "      <td>...</td>\n",
              "      <td>33311</td>\n",
              "      <td>South</td>\n",
              "      <td>OFF-ST-10000760</td>\n",
              "      <td>Office Supplies</td>\n",
              "      <td>Storage</td>\n",
              "      <td>Eldon Fold 'N Roll Cart System</td>\n",
              "      <td>22.3680</td>\n",
              "      <td>2</td>\n",
              "      <td>0.20</td>\n",
              "      <td>2.5164</td>\n",
              "    </tr>\n",
              "    <tr>\n",
              "      <th>5</th>\n",
              "      <td>6</td>\n",
              "      <td>CA-2014-115812</td>\n",
              "      <td>6/9/2014</td>\n",
              "      <td>6/14/2014</td>\n",
              "      <td>Standard Class</td>\n",
              "      <td>BH-11710</td>\n",
              "      <td>Brosina Hoffman</td>\n",
              "      <td>Consumer</td>\n",
              "      <td>United States</td>\n",
              "      <td>Los Angeles</td>\n",
              "      <td>...</td>\n",
              "      <td>90032</td>\n",
              "      <td>West</td>\n",
              "      <td>FUR-FU-10001487</td>\n",
              "      <td>Furniture</td>\n",
              "      <td>Furnishings</td>\n",
              "      <td>Eldon Expressions Wood and Plastic Desk Access...</td>\n",
              "      <td>48.8600</td>\n",
              "      <td>7</td>\n",
              "      <td>0.00</td>\n",
              "      <td>14.1694</td>\n",
              "    </tr>\n",
              "    <tr>\n",
              "      <th>6</th>\n",
              "      <td>7</td>\n",
              "      <td>CA-2014-115812</td>\n",
              "      <td>6/9/2014</td>\n",
              "      <td>6/14/2014</td>\n",
              "      <td>Standard Class</td>\n",
              "      <td>BH-11710</td>\n",
              "      <td>Brosina Hoffman</td>\n",
              "      <td>Consumer</td>\n",
              "      <td>United States</td>\n",
              "      <td>Los Angeles</td>\n",
              "      <td>...</td>\n",
              "      <td>90032</td>\n",
              "      <td>West</td>\n",
              "      <td>OFF-AR-10002833</td>\n",
              "      <td>Office Supplies</td>\n",
              "      <td>Art</td>\n",
              "      <td>Newell 322</td>\n",
              "      <td>7.2800</td>\n",
              "      <td>4</td>\n",
              "      <td>0.00</td>\n",
              "      <td>1.9656</td>\n",
              "    </tr>\n",
              "    <tr>\n",
              "      <th>7</th>\n",
              "      <td>8</td>\n",
              "      <td>CA-2014-115812</td>\n",
              "      <td>6/9/2014</td>\n",
              "      <td>6/14/2014</td>\n",
              "      <td>Standard Class</td>\n",
              "      <td>BH-11710</td>\n",
              "      <td>Brosina Hoffman</td>\n",
              "      <td>Consumer</td>\n",
              "      <td>United States</td>\n",
              "      <td>Los Angeles</td>\n",
              "      <td>...</td>\n",
              "      <td>90032</td>\n",
              "      <td>West</td>\n",
              "      <td>TEC-PH-10002275</td>\n",
              "      <td>Technology</td>\n",
              "      <td>Phones</td>\n",
              "      <td>Mitel 5320 IP Phone VoIP phone</td>\n",
              "      <td>907.1520</td>\n",
              "      <td>6</td>\n",
              "      <td>0.20</td>\n",
              "      <td>90.7152</td>\n",
              "    </tr>\n",
              "    <tr>\n",
              "      <th>8</th>\n",
              "      <td>9</td>\n",
              "      <td>CA-2014-115812</td>\n",
              "      <td>6/9/2014</td>\n",
              "      <td>6/14/2014</td>\n",
              "      <td>Standard Class</td>\n",
              "      <td>BH-11710</td>\n",
              "      <td>Brosina Hoffman</td>\n",
              "      <td>Consumer</td>\n",
              "      <td>United States</td>\n",
              "      <td>Los Angeles</td>\n",
              "      <td>...</td>\n",
              "      <td>90032</td>\n",
              "      <td>West</td>\n",
              "      <td>OFF-BI-10003910</td>\n",
              "      <td>Office Supplies</td>\n",
              "      <td>Binders</td>\n",
              "      <td>DXL Angle-View Binders with Locking Rings by S...</td>\n",
              "      <td>18.5040</td>\n",
              "      <td>3</td>\n",
              "      <td>0.20</td>\n",
              "      <td>5.7825</td>\n",
              "    </tr>\n",
              "    <tr>\n",
              "      <th>9</th>\n",
              "      <td>10</td>\n",
              "      <td>CA-2014-115812</td>\n",
              "      <td>6/9/2014</td>\n",
              "      <td>6/14/2014</td>\n",
              "      <td>Standard Class</td>\n",
              "      <td>BH-11710</td>\n",
              "      <td>Brosina Hoffman</td>\n",
              "      <td>Consumer</td>\n",
              "      <td>United States</td>\n",
              "      <td>Los Angeles</td>\n",
              "      <td>...</td>\n",
              "      <td>90032</td>\n",
              "      <td>West</td>\n",
              "      <td>OFF-AP-10002892</td>\n",
              "      <td>Office Supplies</td>\n",
              "      <td>Appliances</td>\n",
              "      <td>Belkin F5C206VTEL 6 Outlet Surge</td>\n",
              "      <td>114.9000</td>\n",
              "      <td>5</td>\n",
              "      <td>0.00</td>\n",
              "      <td>34.4700</td>\n",
              "    </tr>\n",
              "  </tbody>\n",
              "</table>\n",
              "<p>10 rows × 21 columns</p>\n",
              "</div>"
            ],
            "text/plain": [
              "   Row ID        Order ID  Order Date   Ship Date       Ship Mode Customer ID  \\\n",
              "0       1  CA-2016-152156   11/8/2016  11/11/2016    Second Class    CG-12520   \n",
              "1       2  CA-2016-152156   11/8/2016  11/11/2016    Second Class    CG-12520   \n",
              "2       3  CA-2016-138688   6/12/2016   6/16/2016    Second Class    DV-13045   \n",
              "3       4  US-2015-108966  10/11/2015  10/18/2015  Standard Class    SO-20335   \n",
              "4       5  US-2015-108966  10/11/2015  10/18/2015  Standard Class    SO-20335   \n",
              "5       6  CA-2014-115812    6/9/2014   6/14/2014  Standard Class    BH-11710   \n",
              "6       7  CA-2014-115812    6/9/2014   6/14/2014  Standard Class    BH-11710   \n",
              "7       8  CA-2014-115812    6/9/2014   6/14/2014  Standard Class    BH-11710   \n",
              "8       9  CA-2014-115812    6/9/2014   6/14/2014  Standard Class    BH-11710   \n",
              "9      10  CA-2014-115812    6/9/2014   6/14/2014  Standard Class    BH-11710   \n",
              "\n",
              "     Customer Name    Segment        Country             City  ...  \\\n",
              "0      Claire Gute   Consumer  United States        Henderson  ...   \n",
              "1      Claire Gute   Consumer  United States        Henderson  ...   \n",
              "2  Darrin Van Huff  Corporate  United States      Los Angeles  ...   \n",
              "3   Sean O'Donnell   Consumer  United States  Fort Lauderdale  ...   \n",
              "4   Sean O'Donnell   Consumer  United States  Fort Lauderdale  ...   \n",
              "5  Brosina Hoffman   Consumer  United States      Los Angeles  ...   \n",
              "6  Brosina Hoffman   Consumer  United States      Los Angeles  ...   \n",
              "7  Brosina Hoffman   Consumer  United States      Los Angeles  ...   \n",
              "8  Brosina Hoffman   Consumer  United States      Los Angeles  ...   \n",
              "9  Brosina Hoffman   Consumer  United States      Los Angeles  ...   \n",
              "\n",
              "  Postal Code  Region       Product ID         Category Sub-Category  \\\n",
              "0       42420   South  FUR-BO-10001798        Furniture    Bookcases   \n",
              "1       42420   South  FUR-CH-10000454        Furniture       Chairs   \n",
              "2       90036    West  OFF-LA-10000240  Office Supplies       Labels   \n",
              "3       33311   South  FUR-TA-10000577        Furniture       Tables   \n",
              "4       33311   South  OFF-ST-10000760  Office Supplies      Storage   \n",
              "5       90032    West  FUR-FU-10001487        Furniture  Furnishings   \n",
              "6       90032    West  OFF-AR-10002833  Office Supplies          Art   \n",
              "7       90032    West  TEC-PH-10002275       Technology       Phones   \n",
              "8       90032    West  OFF-BI-10003910  Office Supplies      Binders   \n",
              "9       90032    West  OFF-AP-10002892  Office Supplies   Appliances   \n",
              "\n",
              "                                        Product Name     Sales  Quantity  \\\n",
              "0                  Bush Somerset Collection Bookcase  261.9600         2   \n",
              "1  Hon Deluxe Fabric Upholstered Stacking Chairs,...  731.9400         3   \n",
              "2  Self-Adhesive Address Labels for Typewriters b...   14.6200         2   \n",
              "3      Bretford CR4500 Series Slim Rectangular Table  957.5775         5   \n",
              "4                     Eldon Fold 'N Roll Cart System   22.3680         2   \n",
              "5  Eldon Expressions Wood and Plastic Desk Access...   48.8600         7   \n",
              "6                                         Newell 322    7.2800         4   \n",
              "7                     Mitel 5320 IP Phone VoIP phone  907.1520         6   \n",
              "8  DXL Angle-View Binders with Locking Rings by S...   18.5040         3   \n",
              "9                   Belkin F5C206VTEL 6 Outlet Surge  114.9000         5   \n",
              "\n",
              "   Discount    Profit  \n",
              "0      0.00   41.9136  \n",
              "1      0.00  219.5820  \n",
              "2      0.00    6.8714  \n",
              "3      0.45 -383.0310  \n",
              "4      0.20    2.5164  \n",
              "5      0.00   14.1694  \n",
              "6      0.00    1.9656  \n",
              "7      0.20   90.7152  \n",
              "8      0.20    5.7825  \n",
              "9      0.00   34.4700  \n",
              "\n",
              "[10 rows x 21 columns]"
            ]
          },
          "execution_count": 44,
          "metadata": {},
          "output_type": "execute_result"
        }
      ],
      "source": [
        "df.head(10)"
      ]
    },
    {
      "cell_type": "code",
      "execution_count": 45,
      "metadata": {
        "colab": {
          "base_uri": "https://localhost:8080/"
        },
        "id": "bRaQ5Wr5mYkK",
        "outputId": "41b3cb8d-4366-4acd-d734-aafc94f085c9"
      },
      "outputs": [
        {
          "name": "stdout",
          "output_type": "stream",
          "text": [
            "  Mode Of Shipment  Use Frequency\n",
            "0   Standard Class           5968\n",
            "1     Second Class           1945\n",
            "2      First Class           1538\n",
            "3         Same Day            543\n"
          ]
        }
      ],
      "source": [
        "shipping_model = df['Ship Mode'].value_counts().reset_index()\n",
        "shipping_model = shipping_model.rename(columns={'index':'Use Frequency', 'Ship Mode':'Mode Of Shipment', 'count' : 'Use Frequency'})\n",
        "print(shipping_model)"
      ]
    },
    {
      "cell_type": "code",
      "execution_count": 46,
      "metadata": {
        "colab": {
          "base_uri": "https://localhost:8080/",
          "height": 614
        },
        "id": "8OyiQB2jm667",
        "outputId": "648cb4d3-77ed-49b8-8ade-c831856839e2"
      },
      "outputs": [
        {
          "data": {
            "text/plain": [
              "([<matplotlib.patches.Wedge at 0x1f580623750>,\n",
              "  <matplotlib.patches.Wedge at 0x1f580623b10>,\n",
              "  <matplotlib.patches.Wedge at 0x1f580623ed0>,\n",
              "  <matplotlib.patches.Wedge at 0x1f5806742d0>],\n",
              " [Text(-0.3305657516984502, 1.0491550332548754, 'Standard Class'),\n",
              "  Text(-0.3760776532491148, -1.0337144667298794, 'Second Class'),\n",
              "  Text(0.7465350845565396, -0.8078894525404824, 'First Class'),\n",
              "  Text(1.0840145085529618, -0.18684899048879292, 'Same Day')],\n",
              " [Text(-0.18030859183551826, 0.5722663817753865, '59.7%'),\n",
              "  Text(-0.20513326540860807, -0.5638442545799341, '19.5%'),\n",
              "  Text(0.4072009552126579, -0.44066697411299033, '15.4%'),\n",
              "  Text(0.5912806410288882, -0.10191763117570521, '5.4%')])"
            ]
          },
          "execution_count": 46,
          "metadata": {},
          "output_type": "execute_result"
        },
        {
          "data": {
            "image/png": "[encoded data removed]",
            "text/plain": [
              "<Figure size 640x480 with 1 Axes>"
            ]
          },
          "metadata": {},
          "output_type": "display_data"
        }
      ],
      "source": [
        "plt.pie(shipping_model['Use Frequency'], labels=shipping_model['Mode Of Shipment'], autopct='%1.1f%%')"
      ]
    },
    {
      "cell_type": "code",
      "execution_count": 47,
      "metadata": {
        "colab": {
          "base_uri": "https://localhost:8080/"
        },
        "id": "7U0ml7Y8nL6v",
        "outputId": "548195d3-41f3-489c-a36e-ecb47b520c01"
      },
      "outputs": [
        {
          "name": "stdout",
          "output_type": "stream",
          "text": [
            "   Number Of Customers  count\n",
            "0           California   2001\n",
            "1             New York   1128\n",
            "2                Texas    985\n",
            "3         Pennsylvania    587\n",
            "4           Washington    506\n",
            "5             Illinois    492\n",
            "6                 Ohio    469\n",
            "7              Florida    383\n",
            "8             Michigan    255\n",
            "9       North Carolina    249\n",
            "10             Arizona    224\n",
            "11            Virginia    224\n",
            "12             Georgia    184\n",
            "13           Tennessee    183\n",
            "14            Colorado    182\n",
            "15             Indiana    149\n",
            "16            Kentucky    139\n",
            "17       Massachusetts    135\n",
            "18          New Jersey    130\n",
            "19              Oregon    124\n"
          ]
        }
      ],
      "source": [
        "state = df['State'].value_counts().reset_index()\n",
        "state = state.rename(columns={'index':'State', 'State':'Number Of Customers'})\n",
        "print(state.head(20))"
      ]
    },
    {
      "cell_type": "code",
      "execution_count": 48,
      "metadata": {
        "colab": {
          "base_uri": "https://localhost:8080/"
        },
        "id": "AUDYgL28rYLY",
        "outputId": "3e0f9d0c-227d-44fe-a55b-279607324538"
      },
      "outputs": [
        {
          "name": "stdout",
          "output_type": "stream",
          "text": [
            "             City  count\n",
            "0   New York City    915\n",
            "1     Los Angeles    747\n",
            "2    Philadelphia    537\n",
            "3   San Francisco    510\n",
            "4         Seattle    428\n",
            "5         Houston    377\n",
            "6         Chicago    314\n",
            "7        Columbus    222\n",
            "8       San Diego    170\n",
            "9     Springfield    163\n",
            "10         Dallas    157\n",
            "11   Jacksonville    125\n",
            "12        Detroit    115\n",
            "13         Newark     95\n",
            "14       Richmond     90\n",
            "15        Jackson     82\n",
            "16       Columbia     81\n",
            "17         Aurora     68\n",
            "18        Phoenix     63\n",
            "19     Long Beach     61\n",
            "20      Arlington     60\n",
            "21    San Antonio     59\n",
            "22     Louisville     57\n",
            "23          Miami     57\n",
            "24      Rochester     53\n"
          ]
        }
      ],
      "source": [
        "city = df['City'].value_counts().reset_index()\n",
        "print(city.head(25))"
      ]
    },
    {
      "cell_type": "code",
      "execution_count": 49,
      "metadata": {
        "id": "CJHwvTmWr1AK"
      },
      "outputs": [],
      "source": [
        "state_sales = df.groupby(['State'])['Sales'].sum().reset_index()"
      ]
    },
    {
      "cell_type": "code",
      "execution_count": 50,
      "metadata": {
        "id": "2TSAD9AksQ8_"
      },
      "outputs": [],
      "source": [
        "top_sales = state_sales.sort_values(by='Sales', ascending=False)"
      ]
    },
    {
      "cell_type": "code",
      "execution_count": 51,
      "metadata": {
        "colab": {
          "base_uri": "https://localhost:8080/"
        },
        "id": "LZvPFfHssWrr",
        "outputId": "4bbd058e-9668-43f8-effe-61615c4915d4"
      },
      "outputs": [
        {
          "name": "stdout",
          "output_type": "stream",
          "text": [
            "          State        Sales\n",
            "0    California  457687.6315\n",
            "1      New York  310876.2710\n",
            "2         Texas  170188.0458\n",
            "3    Washington  138641.2700\n",
            "4  Pennsylvania  116511.9140\n",
            "5       Florida   89473.7080\n",
            "6      Illinois   80166.1010\n",
            "7          Ohio   78258.1360\n",
            "8      Michigan   76269.6140\n",
            "9      Virginia   70636.7200\n"
          ]
        }
      ],
      "source": [
        "print(top_sales.head(10).reset_index(drop=True))"
      ]
    },
    {
      "cell_type": "code",
      "execution_count": 52,
      "metadata": {
        "colab": {
          "base_uri": "https://localhost:8080/"
        },
        "id": "dlj8eecbsaWL",
        "outputId": "0fdfad70-9dfc-475c-d4d4-2d62b92e85fc"
      },
      "outputs": [
        {
          "name": "stdout",
          "output_type": "stream",
          "text": [
            "            City        Sales\n",
            "0  New York City  256368.1610\n",
            "1    Los Angeles  175851.3410\n",
            "2        Seattle  119540.7420\n",
            "3  San Francisco  112669.0920\n",
            "4   Philadelphia  109077.0130\n",
            "5        Houston   64504.7604\n",
            "6        Chicago   48539.5410\n",
            "7      San Diego   47521.0290\n",
            "8   Jacksonville   44713.1830\n",
            "9    Springfield   43054.3420\n"
          ]
        }
      ],
      "source": [
        "city_sales = df.groupby(['City'])['Sales'].sum().reset_index()\n",
        "top_city_sales = city_sales.sort_values (by='Sales', ascending=False)\n",
        "print(top_city_sales.head(10).reset_index(drop=True))"
      ]
    },
    {
      "cell_type": "code",
      "execution_count": 53,
      "metadata": {
        "colab": {
          "base_uri": "https://localhost:8080/"
        },
        "id": "fsGFPGcptLrE",
        "outputId": "da3e03e4-5aa0-445a-cdd2-19aad1293685"
      },
      "outputs": [
        {
          "name": "stdout",
          "output_type": "stream",
          "text": [
            "      State           City      Sales\n",
            "0   Alabama         Auburn   1766.830\n",
            "1   Alabama        Decatur   3374.820\n",
            "2   Alabama       Florence   1997.350\n",
            "3   Alabama         Hoover    525.850\n",
            "4   Alabama     Huntsville   2484.370\n",
            "5   Alabama         Mobile   5462.990\n",
            "6   Alabama     Montgomery   3722.730\n",
            "7   Alabama     Tuscaloosa    175.700\n",
            "8   Arizona       Avondale    946.808\n",
            "9   Arizona  Bullhead City     22.288\n",
            "10  Arizona       Chandler   1076.747\n",
            "11  Arizona        Gilbert   4172.382\n",
            "12  Arizona       Glendale   2917.865\n",
            "13  Arizona           Mesa   4037.740\n",
            "14  Arizona         Peoria   1341.352\n",
            "15  Arizona        Phoenix  11000.257\n",
            "16  Arizona     Scottsdale   1466.307\n",
            "17  Arizona   Sierra Vista     76.072\n",
            "18  Arizona          Tempe   1070.302\n",
            "19  Arizona         Tucson   6313.016\n"
          ]
        }
      ],
      "source": [
        "state_city_sales = df.groupby(['State', 'City'])['Sales'].sum().reset_index()\n",
        "print(state_city_sales.head(20))"
      ]
    },
    {
      "cell_type": "code",
      "execution_count": 54,
      "metadata": {
        "colab": {
          "base_uri": "https://localhost:8080/"
        },
        "id": "knL4kmBetvC4",
        "outputId": "88a10c49-321d-4ec6-b095-ec4ea06f3c23"
      },
      "outputs": [
        {
          "name": "stdout",
          "output_type": "stream",
          "text": [
            "['Furniture' 'Office Supplies' 'Technology']\n"
          ]
        }
      ],
      "source": [
        "products = df['Category'].unique()\n",
        "print(products)"
      ]
    },
    {
      "cell_type": "code",
      "execution_count": 55,
      "metadata": {
        "colab": {
          "base_uri": "https://localhost:8080/",
          "height": 1000
        },
        "id": "jVcRl0tAxG4X",
        "outputId": "ca4c14b1-bcf6-4dbd-a107-08a6a2d3ebd1"
      },
      "outputs": [
        {
          "data": {
            "text/html": [
              "<div>\n",
              "<style scoped>\n",
              "    .dataframe tbody tr th:only-of-type {\n",
              "        vertical-align: middle;\n",
              "    }\n",
              "\n",
              "    .dataframe tbody tr th {\n",
              "        vertical-align: top;\n",
              "    }\n",
              "\n",
              "    .dataframe thead th {\n",
              "        text-align: right;\n",
              "    }\n",
              "</style>\n",
              "<table border=\"1\" class=\"dataframe\">\n",
              "  <thead>\n",
              "    <tr style=\"text-align: right;\">\n",
              "      <th></th>\n",
              "      <th>Row ID</th>\n",
              "      <th>Order ID</th>\n",
              "      <th>Order Date</th>\n",
              "      <th>Ship Date</th>\n",
              "      <th>Ship Mode</th>\n",
              "      <th>Customer ID</th>\n",
              "      <th>Customer Name</th>\n",
              "      <th>Segment</th>\n",
              "      <th>Country</th>\n",
              "      <th>City</th>\n",
              "      <th>...</th>\n",
              "      <th>Postal Code</th>\n",
              "      <th>Region</th>\n",
              "      <th>Product ID</th>\n",
              "      <th>Category</th>\n",
              "      <th>Sub-Category</th>\n",
              "      <th>Product Name</th>\n",
              "      <th>Sales</th>\n",
              "      <th>Quantity</th>\n",
              "      <th>Discount</th>\n",
              "      <th>Profit</th>\n",
              "    </tr>\n",
              "  </thead>\n",
              "  <tbody>\n",
              "    <tr>\n",
              "      <th>0</th>\n",
              "      <td>1</td>\n",
              "      <td>CA-2016-152156</td>\n",
              "      <td>11/8/2016</td>\n",
              "      <td>11/11/2016</td>\n",
              "      <td>Second Class</td>\n",
              "      <td>CG-12520</td>\n",
              "      <td>Claire Gute</td>\n",
              "      <td>Consumer</td>\n",
              "      <td>United States</td>\n",
              "      <td>Henderson</td>\n",
              "      <td>...</td>\n",
              "      <td>42420</td>\n",
              "      <td>South</td>\n",
              "      <td>FUR-BO-10001798</td>\n",
              "      <td>Furniture</td>\n",
              "      <td>Bookcases</td>\n",
              "      <td>Bush Somerset Collection Bookcase</td>\n",
              "      <td>261.9600</td>\n",
              "      <td>2</td>\n",
              "      <td>0.00</td>\n",
              "      <td>41.9136</td>\n",
              "    </tr>\n",
              "    <tr>\n",
              "      <th>1</th>\n",
              "      <td>2</td>\n",
              "      <td>CA-2016-152156</td>\n",
              "      <td>11/8/2016</td>\n",
              "      <td>11/11/2016</td>\n",
              "      <td>Second Class</td>\n",
              "      <td>CG-12520</td>\n",
              "      <td>Claire Gute</td>\n",
              "      <td>Consumer</td>\n",
              "      <td>United States</td>\n",
              "      <td>Henderson</td>\n",
              "      <td>...</td>\n",
              "      <td>42420</td>\n",
              "      <td>South</td>\n",
              "      <td>FUR-CH-10000454</td>\n",
              "      <td>Furniture</td>\n",
              "      <td>Chairs</td>\n",
              "      <td>Hon Deluxe Fabric Upholstered Stacking Chairs,...</td>\n",
              "      <td>731.9400</td>\n",
              "      <td>3</td>\n",
              "      <td>0.00</td>\n",
              "      <td>219.5820</td>\n",
              "    </tr>\n",
              "    <tr>\n",
              "      <th>2</th>\n",
              "      <td>3</td>\n",
              "      <td>CA-2016-138688</td>\n",
              "      <td>6/12/2016</td>\n",
              "      <td>6/16/2016</td>\n",
              "      <td>Second Class</td>\n",
              "      <td>DV-13045</td>\n",
              "      <td>Darrin Van Huff</td>\n",
              "      <td>Corporate</td>\n",
              "      <td>United States</td>\n",
              "      <td>Los Angeles</td>\n",
              "      <td>...</td>\n",
              "      <td>90036</td>\n",
              "      <td>West</td>\n",
              "      <td>OFF-LA-10000240</td>\n",
              "      <td>Office Supplies</td>\n",
              "      <td>Labels</td>\n",
              "      <td>Self-Adhesive Address Labels for Typewriters b...</td>\n",
              "      <td>14.6200</td>\n",
              "      <td>2</td>\n",
              "      <td>0.00</td>\n",
              "      <td>6.8714</td>\n",
              "    </tr>\n",
              "    <tr>\n",
              "      <th>3</th>\n",
              "      <td>4</td>\n",
              "      <td>US-2015-108966</td>\n",
              "      <td>10/11/2015</td>\n",
              "      <td>10/18/2015</td>\n",
              "      <td>Standard Class</td>\n",
              "      <td>SO-20335</td>\n",
              "      <td>Sean O'Donnell</td>\n",
              "      <td>Consumer</td>\n",
              "      <td>United States</td>\n",
              "      <td>Fort Lauderdale</td>\n",
              "      <td>...</td>\n",
              "      <td>33311</td>\n",
              "      <td>South</td>\n",
              "      <td>FUR-TA-10000577</td>\n",
              "      <td>Furniture</td>\n",
              "      <td>Tables</td>\n",
              "      <td>Bretford CR4500 Series Slim Rectangular Table</td>\n",
              "      <td>957.5775</td>\n",
              "      <td>5</td>\n",
              "      <td>0.45</td>\n",
              "      <td>-383.0310</td>\n",
              "    </tr>\n",
              "    <tr>\n",
              "      <th>4</th>\n",
              "      <td>5</td>\n",
              "      <td>US-2015-108966</td>\n",
              "      <td>10/11/2015</td>\n",
              "      <td>10/18/2015</td>\n",
              "      <td>Standard Class</td>\n",
              "      <td>SO-20335</td>\n",
              "      <td>Sean O'Donnell</td>\n",
              "      <td>Consumer</td>\n",
              "      <td>United States</td>\n",
              "      <td>Fort Lauderdale</td>\n",
              "      <td>...</td>\n",
              "      <td>33311</td>\n",
              "      <td>South</td>\n",
              "      <td>OFF-ST-10000760</td>\n",
              "      <td>Office Supplies</td>\n",
              "      <td>Storage</td>\n",
              "      <td>Eldon Fold 'N Roll Cart System</td>\n",
              "      <td>22.3680</td>\n",
              "      <td>2</td>\n",
              "      <td>0.20</td>\n",
              "      <td>2.5164</td>\n",
              "    </tr>\n",
              "    <tr>\n",
              "      <th>...</th>\n",
              "      <td>...</td>\n",
              "      <td>...</td>\n",
              "      <td>...</td>\n",
              "      <td>...</td>\n",
              "      <td>...</td>\n",
              "      <td>...</td>\n",
              "      <td>...</td>\n",
              "      <td>...</td>\n",
              "      <td>...</td>\n",
              "      <td>...</td>\n",
              "      <td>...</td>\n",
              "      <td>...</td>\n",
              "      <td>...</td>\n",
              "      <td>...</td>\n",
              "      <td>...</td>\n",
              "      <td>...</td>\n",
              "      <td>...</td>\n",
              "      <td>...</td>\n",
              "      <td>...</td>\n",
              "      <td>...</td>\n",
              "      <td>...</td>\n",
              "    </tr>\n",
              "    <tr>\n",
              "      <th>95</th>\n",
              "      <td>96</td>\n",
              "      <td>US-2017-109484</td>\n",
              "      <td>11/6/2017</td>\n",
              "      <td>11/12/2017</td>\n",
              "      <td>Standard Class</td>\n",
              "      <td>RB-19705</td>\n",
              "      <td>Roger Barcio</td>\n",
              "      <td>Home Office</td>\n",
              "      <td>United States</td>\n",
              "      <td>Portland</td>\n",
              "      <td>...</td>\n",
              "      <td>97206</td>\n",
              "      <td>West</td>\n",
              "      <td>OFF-BI-10004738</td>\n",
              "      <td>Office Supplies</td>\n",
              "      <td>Binders</td>\n",
              "      <td>Flexible Leather- Look Classic Collection Ring...</td>\n",
              "      <td>5.6820</td>\n",
              "      <td>1</td>\n",
              "      <td>0.70</td>\n",
              "      <td>-3.7880</td>\n",
              "    </tr>\n",
              "    <tr>\n",
              "      <th>96</th>\n",
              "      <td>97</td>\n",
              "      <td>CA-2017-161018</td>\n",
              "      <td>11/9/2017</td>\n",
              "      <td>11/11/2017</td>\n",
              "      <td>Second Class</td>\n",
              "      <td>PN-18775</td>\n",
              "      <td>Parhena Norris</td>\n",
              "      <td>Home Office</td>\n",
              "      <td>United States</td>\n",
              "      <td>New York City</td>\n",
              "      <td>...</td>\n",
              "      <td>10009</td>\n",
              "      <td>East</td>\n",
              "      <td>FUR-FU-10000629</td>\n",
              "      <td>Furniture</td>\n",
              "      <td>Furnishings</td>\n",
              "      <td>9-3/4 Diameter Round Wall Clock</td>\n",
              "      <td>96.5300</td>\n",
              "      <td>7</td>\n",
              "      <td>0.00</td>\n",
              "      <td>40.5426</td>\n",
              "    </tr>\n",
              "    <tr>\n",
              "      <th>97</th>\n",
              "      <td>98</td>\n",
              "      <td>CA-2017-157833</td>\n",
              "      <td>6/17/2017</td>\n",
              "      <td>6/20/2017</td>\n",
              "      <td>First Class</td>\n",
              "      <td>KD-16345</td>\n",
              "      <td>Katherine Ducich</td>\n",
              "      <td>Consumer</td>\n",
              "      <td>United States</td>\n",
              "      <td>San Francisco</td>\n",
              "      <td>...</td>\n",
              "      <td>94122</td>\n",
              "      <td>West</td>\n",
              "      <td>OFF-BI-10001721</td>\n",
              "      <td>Office Supplies</td>\n",
              "      <td>Binders</td>\n",
              "      <td>Trimflex Flexible Post Binders</td>\n",
              "      <td>51.3120</td>\n",
              "      <td>3</td>\n",
              "      <td>0.20</td>\n",
              "      <td>17.9592</td>\n",
              "    </tr>\n",
              "    <tr>\n",
              "      <th>98</th>\n",
              "      <td>99</td>\n",
              "      <td>CA-2016-149223</td>\n",
              "      <td>9/6/2016</td>\n",
              "      <td>9/11/2016</td>\n",
              "      <td>Standard Class</td>\n",
              "      <td>ER-13855</td>\n",
              "      <td>Elpida Rittenbach</td>\n",
              "      <td>Corporate</td>\n",
              "      <td>United States</td>\n",
              "      <td>Saint Paul</td>\n",
              "      <td>...</td>\n",
              "      <td>55106</td>\n",
              "      <td>Central</td>\n",
              "      <td>OFF-AP-10000358</td>\n",
              "      <td>Office Supplies</td>\n",
              "      <td>Appliances</td>\n",
              "      <td>Fellowes Basic Home/Office Series Surge Protec...</td>\n",
              "      <td>77.8800</td>\n",
              "      <td>6</td>\n",
              "      <td>0.00</td>\n",
              "      <td>22.5852</td>\n",
              "    </tr>\n",
              "    <tr>\n",
              "      <th>99</th>\n",
              "      <td>100</td>\n",
              "      <td>CA-2016-158568</td>\n",
              "      <td>8/29/2016</td>\n",
              "      <td>9/2/2016</td>\n",
              "      <td>Standard Class</td>\n",
              "      <td>RB-19465</td>\n",
              "      <td>Rick Bensley</td>\n",
              "      <td>Home Office</td>\n",
              "      <td>United States</td>\n",
              "      <td>Chicago</td>\n",
              "      <td>...</td>\n",
              "      <td>60610</td>\n",
              "      <td>Central</td>\n",
              "      <td>OFF-PA-10003256</td>\n",
              "      <td>Office Supplies</td>\n",
              "      <td>Paper</td>\n",
              "      <td>Avery Personal Creations Heavyweight Cards</td>\n",
              "      <td>64.6240</td>\n",
              "      <td>7</td>\n",
              "      <td>0.20</td>\n",
              "      <td>22.6184</td>\n",
              "    </tr>\n",
              "  </tbody>\n",
              "</table>\n",
              "<p>100 rows × 21 columns</p>\n",
              "</div>"
            ],
            "text/plain": [
              "    Row ID        Order ID  Order Date   Ship Date       Ship Mode  \\\n",
              "0        1  CA-2016-152156   11/8/2016  11/11/2016    Second Class   \n",
              "1        2  CA-2016-152156   11/8/2016  11/11/2016    Second Class   \n",
              "2        3  CA-2016-138688   6/12/2016   6/16/2016    Second Class   \n",
              "3        4  US-2015-108966  10/11/2015  10/18/2015  Standard Class   \n",
              "4        5  US-2015-108966  10/11/2015  10/18/2015  Standard Class   \n",
              "..     ...             ...         ...         ...             ...   \n",
              "95      96  US-2017-109484   11/6/2017  11/12/2017  Standard Class   \n",
              "96      97  CA-2017-161018   11/9/2017  11/11/2017    Second Class   \n",
              "97      98  CA-2017-157833   6/17/2017   6/20/2017     First Class   \n",
              "98      99  CA-2016-149223    9/6/2016   9/11/2016  Standard Class   \n",
              "99     100  CA-2016-158568   8/29/2016    9/2/2016  Standard Class   \n",
              "\n",
              "   Customer ID      Customer Name      Segment        Country  \\\n",
              "0     CG-12520        Claire Gute     Consumer  United States   \n",
              "1     CG-12520        Claire Gute     Consumer  United States   \n",
              "2     DV-13045    Darrin Van Huff    Corporate  United States   \n",
              "3     SO-20335     Sean O'Donnell     Consumer  United States   \n",
              "4     SO-20335     Sean O'Donnell     Consumer  United States   \n",
              "..         ...                ...          ...            ...   \n",
              "95    RB-19705       Roger Barcio  Home Office  United States   \n",
              "96    PN-18775     Parhena Norris  Home Office  United States   \n",
              "97    KD-16345   Katherine Ducich     Consumer  United States   \n",
              "98    ER-13855  Elpida Rittenbach    Corporate  United States   \n",
              "99    RB-19465       Rick Bensley  Home Office  United States   \n",
              "\n",
              "               City  ... Postal Code   Region       Product ID  \\\n",
              "0         Henderson  ...       42420    South  FUR-BO-10001798   \n",
              "1         Henderson  ...       42420    South  FUR-CH-10000454   \n",
              "2       Los Angeles  ...       90036     West  OFF-LA-10000240   \n",
              "3   Fort Lauderdale  ...       33311    South  FUR-TA-10000577   \n",
              "4   Fort Lauderdale  ...       33311    South  OFF-ST-10000760   \n",
              "..              ...  ...         ...      ...              ...   \n",
              "95         Portland  ...       97206     West  OFF-BI-10004738   \n",
              "96    New York City  ...       10009     East  FUR-FU-10000629   \n",
              "97    San Francisco  ...       94122     West  OFF-BI-10001721   \n",
              "98       Saint Paul  ...       55106  Central  OFF-AP-10000358   \n",
              "99          Chicago  ...       60610  Central  OFF-PA-10003256   \n",
              "\n",
              "           Category Sub-Category  \\\n",
              "0         Furniture    Bookcases   \n",
              "1         Furniture       Chairs   \n",
              "2   Office Supplies       Labels   \n",
              "3         Furniture       Tables   \n",
              "4   Office Supplies      Storage   \n",
              "..              ...          ...   \n",
              "95  Office Supplies      Binders   \n",
              "96        Furniture  Furnishings   \n",
              "97  Office Supplies      Binders   \n",
              "98  Office Supplies   Appliances   \n",
              "99  Office Supplies        Paper   \n",
              "\n",
              "                                         Product Name     Sales  Quantity  \\\n",
              "0                   Bush Somerset Collection Bookcase  261.9600         2   \n",
              "1   Hon Deluxe Fabric Upholstered Stacking Chairs,...  731.9400         3   \n",
              "2   Self-Adhesive Address Labels for Typewriters b...   14.6200         2   \n",
              "3       Bretford CR4500 Series Slim Rectangular Table  957.5775         5   \n",
              "4                      Eldon Fold 'N Roll Cart System   22.3680         2   \n",
              "..                                                ...       ...       ...   \n",
              "95  Flexible Leather- Look Classic Collection Ring...    5.6820         1   \n",
              "96                    9-3/4 Diameter Round Wall Clock   96.5300         7   \n",
              "97                     Trimflex Flexible Post Binders   51.3120         3   \n",
              "98  Fellowes Basic Home/Office Series Surge Protec...   77.8800         6   \n",
              "99         Avery Personal Creations Heavyweight Cards   64.6240         7   \n",
              "\n",
              "    Discount    Profit  \n",
              "0       0.00   41.9136  \n",
              "1       0.00  219.5820  \n",
              "2       0.00    6.8714  \n",
              "3       0.45 -383.0310  \n",
              "4       0.20    2.5164  \n",
              "..       ...       ...  \n",
              "95      0.70   -3.7880  \n",
              "96      0.00   40.5426  \n",
              "97      0.20   17.9592  \n",
              "98      0.00   22.5852  \n",
              "99      0.20   22.6184  \n",
              "\n",
              "[100 rows x 21 columns]"
            ]
          },
          "execution_count": 55,
          "metadata": {},
          "output_type": "execute_result"
        }
      ],
      "source": [
        "df.head(100)"
      ]
    },
    {
      "cell_type": "code",
      "execution_count": 56,
      "metadata": {
        "colab": {
          "base_uri": "https://localhost:8080/"
        },
        "id": "k5Qy_Uv-xKhe",
        "outputId": "6497b59c-212d-41a3-bceb-f973389213d7"
      },
      "outputs": [
        {
          "name": "stdout",
          "output_type": "stream",
          "text": [
            "['Bookcases' 'Chairs' 'Labels' 'Tables' 'Storage' 'Furnishings' 'Art'\n",
            " 'Phones' 'Binders' 'Appliances' 'Paper' 'Accessories' 'Envelopes'\n",
            " 'Fasteners' 'Supplies' 'Machines' 'Copiers']\n"
          ]
        }
      ],
      "source": [
        "product_subcategory = df['Sub-Category'].unique()\n",
        "print(product_subcategory)"
      ]
    },
    {
      "cell_type": "code",
      "execution_count": 57,
      "metadata": {
        "colab": {
          "base_uri": "https://localhost:8080/"
        },
        "id": "XMJHwS_pxYis",
        "outputId": "dfc1a5c5-09d4-40d9-82c5-1f96ba6cd44a"
      },
      "outputs": [
        {
          "name": "stdout",
          "output_type": "stream",
          "text": [
            "          Category  Sub-Category\n",
            "1  Office Supplies             9\n",
            "0        Furniture             4\n",
            "2       Technology             4\n"
          ]
        }
      ],
      "source": [
        "subcategory_count = df.groupby('Category')['Sub-Category'].nunique().reset_index()\n",
        "subcategory_count = subcategory_count.sort_values(by='Sub-Category', ascending = False)\n",
        "print(subcategory_count)"
      ]
    },
    {
      "cell_type": "code",
      "execution_count": 58,
      "metadata": {
        "id": "HFvV7o-Rx06m"
      },
      "outputs": [],
      "source": [
        "subcategory_count_sales = df.groupby(['Category', 'Sub-Category'])['Sales'].sum().reset_index()\n",
        "subcategory_count_sales = subcategory_count_sales.sort_values(by='Sales', ascending = False)"
      ]
    },
    {
      "cell_type": "code",
      "execution_count": 59,
      "metadata": {
        "colab": {
          "base_uri": "https://localhost:8080/"
        },
        "id": "r_VVfYdiyS3D",
        "outputId": "64d5d8c2-f5fa-4687-fef1-2b516b725212"
      },
      "outputs": [
        {
          "name": "stdout",
          "output_type": "stream",
          "text": [
            "           Category Sub-Category        Sales\n",
            "16       Technology       Phones  330007.0540\n",
            "1         Furniture       Chairs  328449.1030\n",
            "11  Office Supplies      Storage  223843.6080\n",
            "3         Furniture       Tables  206965.5320\n",
            "6   Office Supplies      Binders  203412.7330\n",
            "15       Technology     Machines  189238.6310\n",
            "13       Technology  Accessories  167380.3180\n",
            "14       Technology      Copiers  149528.0300\n",
            "0         Furniture    Bookcases  114879.9963\n",
            "4   Office Supplies   Appliances  107532.1610\n",
            "2         Furniture  Furnishings   91705.1640\n",
            "10  Office Supplies        Paper   78479.2060\n",
            "12  Office Supplies     Supplies   46673.5380\n",
            "5   Office Supplies          Art   27118.7920\n",
            "7   Office Supplies    Envelopes   16476.4020\n",
            "9   Office Supplies       Labels   12486.3120\n",
            "8   Office Supplies    Fasteners    3024.2800\n"
          ]
        }
      ],
      "source": [
        "print(subcategory_count_sales)"
      ]
    },
    {
      "cell_type": "code",
      "execution_count": 60,
      "metadata": {
        "colab": {
          "base_uri": "https://localhost:8080/"
        },
        "id": "-fKRds6wybp7",
        "outputId": "e0339ca9-c7e8-46e5-8ef0-6daa28dc0dc2"
      },
      "outputs": [
        {
          "name": "stdout",
          "output_type": "stream",
          "text": [
            "          Category        Sales\n",
            "0       Technology  836154.0330\n",
            "1        Furniture  741999.7953\n",
            "2  Office Supplies  719047.0320\n"
          ]
        }
      ],
      "source": [
        "product_category = df.groupby(['Category'])['Sales'].sum().reset_index()\n",
        "top_product_category = product_category.sort_values(by='Sales', ascending = False)\n",
        "print(top_product_category.reset_index(drop=True))"
      ]
    },
    {
      "cell_type": "code",
      "execution_count": 61,
      "metadata": {
        "colab": {
          "base_uri": "https://localhost:8080/",
          "height": 562
        },
        "id": "LHyzzwtdy7GY",
        "outputId": "41b0dfd1-e760-48d1-e37f-1a21567533ae"
      },
      "outputs": [
        {
          "data": {
            "text/plain": [
              "([<matplotlib.patches.Wedge at 0x1f580677890>,\n",
              "  <matplotlib.patches.Wedge at 0x1f580677c50>,\n",
              "  <matplotlib.patches.Wedge at 0x1f5806d4050>],\n",
              " [Text(0.4558501937655543, 1.001099695756575, 'Technology'),\n",
              "  Text(-1.0859232694701606, -0.17541565729215064, 'Furniture'),\n",
              "  Text(0.6096608927243867, -0.9155946678975931, 'Office Supplies')],\n",
              " [Text(0.24864556023575687, 0.5460543795035863, '36.4%'),\n",
              "  Text(-0.5923217833473602, -0.09568126761390033, '32.3%'),\n",
              "  Text(0.3325423051223927, -0.49941527339868713, '31.3%')])"
            ]
          },
          "execution_count": 61,
          "metadata": {},
          "output_type": "execute_result"
        },
        {
          "data": {
            "image/png": "[encoded data removed]",
            "text/plain": [
              "<Figure size 640x480 with 1 Axes>"
            ]
          },
          "metadata": {},
          "output_type": "display_data"
        }
      ],
      "source": [
        "plt.pie(top_product_category['Sales'], labels=top_product_category['Category'], autopct='%1.1f%%')"
      ]
    },
    {
      "cell_type": "code",
      "execution_count": 62,
      "metadata": {
        "colab": {
          "base_uri": "https://localhost:8080/",
          "height": 447
        },
        "id": "vIpmeEEvzWDO",
        "outputId": "8d918269-9e9e-4846-8c72-3f668c6b1ddf"
      },
      "outputs": [
        {
          "data": {
            "text/plain": [
              "<BarContainer object of 17 artists>"
            ]
          },
          "execution_count": 62,
          "metadata": {},
          "output_type": "execute_result"
        },
        {
          "data": {
            "image/png": "[encoded data removed]",
            "text/plain": [
              "<Figure size 640x480 with 1 Axes>"
            ]
          },
          "metadata": {},
          "output_type": "display_data"
        }
      ],
      "source": [
        "subcategory_count_sales = subcategory_count_sales.sort_values(by='Sales', ascending = True)\n",
        "plt.barh(subcategory_count_sales['Sub-Category'], subcategory_count_sales['Sales'])"
      ]
    },
    {
      "cell_type": "code",
      "execution_count": 65,
      "metadata": {
        "colab": {
          "base_uri": "https://localhost:8080/"
        },
        "id": "IXc0hBjIzx7g",
        "outputId": "b4ee0817-41e5-4c1d-b71d-f04042765b04"
      },
      "outputs": [
        {
          "name": "stdout",
          "output_type": "stream",
          "text": [
            "     Year  Total Sales\n",
            "0  2014.0  178906.6897\n",
            "1  2015.0  164213.4847\n",
            "2  2016.0  271489.8529\n",
            "3  2017.0  273307.2843\n"
          ]
        }
      ],
      "source": [
        "df['Order Date'] = pd.to_datetime(df['Order Date'], dayfirst = True, errors='coerce')\n",
        "yearly_sales = df.groupby(df['Order Date'].dt.year)['Sales'].sum()\n",
        "yearly_sales = yearly_sales.reset_index()\n",
        "yearly_sales = yearly_sales.rename(columns={'Order Date' : 'Year', 'Sales': 'Total Sales'})\n",
        "\n",
        "print (yearly_sales)"
      ]
    },
    {
      "cell_type": "code",
      "execution_count": 66,
      "metadata": {
        "colab": {
          "base_uri": "https://localhost:8080/",
          "height": 447
        },
        "id": "RG3Je93m-zV5",
        "outputId": "12b823ff-9ca6-4dfc-e3c1-a10fee0ea6bc"
      },
      "outputs": [
        {
          "data": {
            "text/plain": [
              "<BarContainer object of 4 artists>"
            ]
          },
          "execution_count": 66,
          "metadata": {},
          "output_type": "execute_result"
        },
        {
          "data": {
            "image/png": "[encoded data removed]",
            "text/plain": [
              "<Figure size 640x480 with 1 Axes>"
            ]
          },
          "metadata": {},
          "output_type": "display_data"
        }
      ],
      "source": [
        "plt.bar(yearly_sales['Year'], yearly_sales['Total Sales'])"
      ]
    },
    {
      "cell_type": "code",
      "execution_count": 67,
      "metadata": {
        "colab": {
          "base_uri": "https://localhost:8080/",
          "height": 955
        },
        "id": "1wVl0XXu_l4L",
        "outputId": "32ad71f4-1705-4678-d04e-41cec1213882"
      },
      "outputs": [
        {
          "data": {
            "text/html": [
              "<div>\n",
              "<style scoped>\n",
              "    .dataframe tbody tr th:only-of-type {\n",
              "        vertical-align: middle;\n",
              "    }\n",
              "\n",
              "    .dataframe tbody tr th {\n",
              "        vertical-align: top;\n",
              "    }\n",
              "\n",
              "    .dataframe thead th {\n",
              "        text-align: right;\n",
              "    }\n",
              "</style>\n",
              "<table border=\"1\" class=\"dataframe\">\n",
              "  <thead>\n",
              "    <tr style=\"text-align: right;\">\n",
              "      <th></th>\n",
              "      <th>Row ID</th>\n",
              "      <th>Order ID</th>\n",
              "      <th>Order Date</th>\n",
              "      <th>Ship Date</th>\n",
              "      <th>Ship Mode</th>\n",
              "      <th>Customer ID</th>\n",
              "      <th>Customer Name</th>\n",
              "      <th>Segment</th>\n",
              "      <th>Country</th>\n",
              "      <th>City</th>\n",
              "      <th>...</th>\n",
              "      <th>Postal Code</th>\n",
              "      <th>Region</th>\n",
              "      <th>Product ID</th>\n",
              "      <th>Category</th>\n",
              "      <th>Sub-Category</th>\n",
              "      <th>Product Name</th>\n",
              "      <th>Sales</th>\n",
              "      <th>Quantity</th>\n",
              "      <th>Discount</th>\n",
              "      <th>Profit</th>\n",
              "    </tr>\n",
              "  </thead>\n",
              "  <tbody>\n",
              "    <tr>\n",
              "      <th>0</th>\n",
              "      <td>1</td>\n",
              "      <td>CA-2016-152156</td>\n",
              "      <td>2016-08-11</td>\n",
              "      <td>11/11/2016</td>\n",
              "      <td>Second Class</td>\n",
              "      <td>CG-12520</td>\n",
              "      <td>Claire Gute</td>\n",
              "      <td>Consumer</td>\n",
              "      <td>United States</td>\n",
              "      <td>Henderson</td>\n",
              "      <td>...</td>\n",
              "      <td>42420</td>\n",
              "      <td>South</td>\n",
              "      <td>FUR-BO-10001798</td>\n",
              "      <td>Furniture</td>\n",
              "      <td>Bookcases</td>\n",
              "      <td>Bush Somerset Collection Bookcase</td>\n",
              "      <td>261.9600</td>\n",
              "      <td>2</td>\n",
              "      <td>0.00</td>\n",
              "      <td>41.9136</td>\n",
              "    </tr>\n",
              "    <tr>\n",
              "      <th>1</th>\n",
              "      <td>2</td>\n",
              "      <td>CA-2016-152156</td>\n",
              "      <td>2016-08-11</td>\n",
              "      <td>11/11/2016</td>\n",
              "      <td>Second Class</td>\n",
              "      <td>CG-12520</td>\n",
              "      <td>Claire Gute</td>\n",
              "      <td>Consumer</td>\n",
              "      <td>United States</td>\n",
              "      <td>Henderson</td>\n",
              "      <td>...</td>\n",
              "      <td>42420</td>\n",
              "      <td>South</td>\n",
              "      <td>FUR-CH-10000454</td>\n",
              "      <td>Furniture</td>\n",
              "      <td>Chairs</td>\n",
              "      <td>Hon Deluxe Fabric Upholstered Stacking Chairs,...</td>\n",
              "      <td>731.9400</td>\n",
              "      <td>3</td>\n",
              "      <td>0.00</td>\n",
              "      <td>219.5820</td>\n",
              "    </tr>\n",
              "    <tr>\n",
              "      <th>2</th>\n",
              "      <td>3</td>\n",
              "      <td>CA-2016-138688</td>\n",
              "      <td>2016-12-06</td>\n",
              "      <td>6/16/2016</td>\n",
              "      <td>Second Class</td>\n",
              "      <td>DV-13045</td>\n",
              "      <td>Darrin Van Huff</td>\n",
              "      <td>Corporate</td>\n",
              "      <td>United States</td>\n",
              "      <td>Los Angeles</td>\n",
              "      <td>...</td>\n",
              "      <td>90036</td>\n",
              "      <td>West</td>\n",
              "      <td>OFF-LA-10000240</td>\n",
              "      <td>Office Supplies</td>\n",
              "      <td>Labels</td>\n",
              "      <td>Self-Adhesive Address Labels for Typewriters b...</td>\n",
              "      <td>14.6200</td>\n",
              "      <td>2</td>\n",
              "      <td>0.00</td>\n",
              "      <td>6.8714</td>\n",
              "    </tr>\n",
              "    <tr>\n",
              "      <th>3</th>\n",
              "      <td>4</td>\n",
              "      <td>US-2015-108966</td>\n",
              "      <td>2015-11-10</td>\n",
              "      <td>10/18/2015</td>\n",
              "      <td>Standard Class</td>\n",
              "      <td>SO-20335</td>\n",
              "      <td>Sean O'Donnell</td>\n",
              "      <td>Consumer</td>\n",
              "      <td>United States</td>\n",
              "      <td>Fort Lauderdale</td>\n",
              "      <td>...</td>\n",
              "      <td>33311</td>\n",
              "      <td>South</td>\n",
              "      <td>FUR-TA-10000577</td>\n",
              "      <td>Furniture</td>\n",
              "      <td>Tables</td>\n",
              "      <td>Bretford CR4500 Series Slim Rectangular Table</td>\n",
              "      <td>957.5775</td>\n",
              "      <td>5</td>\n",
              "      <td>0.45</td>\n",
              "      <td>-383.0310</td>\n",
              "    </tr>\n",
              "    <tr>\n",
              "      <th>4</th>\n",
              "      <td>5</td>\n",
              "      <td>US-2015-108966</td>\n",
              "      <td>2015-11-10</td>\n",
              "      <td>10/18/2015</td>\n",
              "      <td>Standard Class</td>\n",
              "      <td>SO-20335</td>\n",
              "      <td>Sean O'Donnell</td>\n",
              "      <td>Consumer</td>\n",
              "      <td>United States</td>\n",
              "      <td>Fort Lauderdale</td>\n",
              "      <td>...</td>\n",
              "      <td>33311</td>\n",
              "      <td>South</td>\n",
              "      <td>OFF-ST-10000760</td>\n",
              "      <td>Office Supplies</td>\n",
              "      <td>Storage</td>\n",
              "      <td>Eldon Fold 'N Roll Cart System</td>\n",
              "      <td>22.3680</td>\n",
              "      <td>2</td>\n",
              "      <td>0.20</td>\n",
              "      <td>2.5164</td>\n",
              "    </tr>\n",
              "    <tr>\n",
              "      <th>5</th>\n",
              "      <td>6</td>\n",
              "      <td>CA-2014-115812</td>\n",
              "      <td>2014-09-06</td>\n",
              "      <td>6/14/2014</td>\n",
              "      <td>Standard Class</td>\n",
              "      <td>BH-11710</td>\n",
              "      <td>Brosina Hoffman</td>\n",
              "      <td>Consumer</td>\n",
              "      <td>United States</td>\n",
              "      <td>Los Angeles</td>\n",
              "      <td>...</td>\n",
              "      <td>90032</td>\n",
              "      <td>West</td>\n",
              "      <td>FUR-FU-10001487</td>\n",
              "      <td>Furniture</td>\n",
              "      <td>Furnishings</td>\n",
              "      <td>Eldon Expressions Wood and Plastic Desk Access...</td>\n",
              "      <td>48.8600</td>\n",
              "      <td>7</td>\n",
              "      <td>0.00</td>\n",
              "      <td>14.1694</td>\n",
              "    </tr>\n",
              "    <tr>\n",
              "      <th>6</th>\n",
              "      <td>7</td>\n",
              "      <td>CA-2014-115812</td>\n",
              "      <td>2014-09-06</td>\n",
              "      <td>6/14/2014</td>\n",
              "      <td>Standard Class</td>\n",
              "      <td>BH-11710</td>\n",
              "      <td>Brosina Hoffman</td>\n",
              "      <td>Consumer</td>\n",
              "      <td>United States</td>\n",
              "      <td>Los Angeles</td>\n",
              "      <td>...</td>\n",
              "      <td>90032</td>\n",
              "      <td>West</td>\n",
              "      <td>OFF-AR-10002833</td>\n",
              "      <td>Office Supplies</td>\n",
              "      <td>Art</td>\n",
              "      <td>Newell 322</td>\n",
              "      <td>7.2800</td>\n",
              "      <td>4</td>\n",
              "      <td>0.00</td>\n",
              "      <td>1.9656</td>\n",
              "    </tr>\n",
              "    <tr>\n",
              "      <th>7</th>\n",
              "      <td>8</td>\n",
              "      <td>CA-2014-115812</td>\n",
              "      <td>2014-09-06</td>\n",
              "      <td>6/14/2014</td>\n",
              "      <td>Standard Class</td>\n",
              "      <td>BH-11710</td>\n",
              "      <td>Brosina Hoffman</td>\n",
              "      <td>Consumer</td>\n",
              "      <td>United States</td>\n",
              "      <td>Los Angeles</td>\n",
              "      <td>...</td>\n",
              "      <td>90032</td>\n",
              "      <td>West</td>\n",
              "      <td>TEC-PH-10002275</td>\n",
              "      <td>Technology</td>\n",
              "      <td>Phones</td>\n",
              "      <td>Mitel 5320 IP Phone VoIP phone</td>\n",
              "      <td>907.1520</td>\n",
              "      <td>6</td>\n",
              "      <td>0.20</td>\n",
              "      <td>90.7152</td>\n",
              "    </tr>\n",
              "    <tr>\n",
              "      <th>8</th>\n",
              "      <td>9</td>\n",
              "      <td>CA-2014-115812</td>\n",
              "      <td>2014-09-06</td>\n",
              "      <td>6/14/2014</td>\n",
              "      <td>Standard Class</td>\n",
              "      <td>BH-11710</td>\n",
              "      <td>Brosina Hoffman</td>\n",
              "      <td>Consumer</td>\n",
              "      <td>United States</td>\n",
              "      <td>Los Angeles</td>\n",
              "      <td>...</td>\n",
              "      <td>90032</td>\n",
              "      <td>West</td>\n",
              "      <td>OFF-BI-10003910</td>\n",
              "      <td>Office Supplies</td>\n",
              "      <td>Binders</td>\n",
              "      <td>DXL Angle-View Binders with Locking Rings by S...</td>\n",
              "      <td>18.5040</td>\n",
              "      <td>3</td>\n",
              "      <td>0.20</td>\n",
              "      <td>5.7825</td>\n",
              "    </tr>\n",
              "    <tr>\n",
              "      <th>9</th>\n",
              "      <td>10</td>\n",
              "      <td>CA-2014-115812</td>\n",
              "      <td>2014-09-06</td>\n",
              "      <td>6/14/2014</td>\n",
              "      <td>Standard Class</td>\n",
              "      <td>BH-11710</td>\n",
              "      <td>Brosina Hoffman</td>\n",
              "      <td>Consumer</td>\n",
              "      <td>United States</td>\n",
              "      <td>Los Angeles</td>\n",
              "      <td>...</td>\n",
              "      <td>90032</td>\n",
              "      <td>West</td>\n",
              "      <td>OFF-AP-10002892</td>\n",
              "      <td>Office Supplies</td>\n",
              "      <td>Appliances</td>\n",
              "      <td>Belkin F5C206VTEL 6 Outlet Surge</td>\n",
              "      <td>114.9000</td>\n",
              "      <td>5</td>\n",
              "      <td>0.00</td>\n",
              "      <td>34.4700</td>\n",
              "    </tr>\n",
              "  </tbody>\n",
              "</table>\n",
              "<p>10 rows × 21 columns</p>\n",
              "</div>"
            ],
            "text/plain": [
              "   Row ID        Order ID Order Date   Ship Date       Ship Mode Customer ID  \\\n",
              "0       1  CA-2016-152156 2016-08-11  11/11/2016    Second Class    CG-12520   \n",
              "1       2  CA-2016-152156 2016-08-11  11/11/2016    Second Class    CG-12520   \n",
              "2       3  CA-2016-138688 2016-12-06   6/16/2016    Second Class    DV-13045   \n",
              "3       4  US-2015-108966 2015-11-10  10/18/2015  Standard Class    SO-20335   \n",
              "4       5  US-2015-108966 2015-11-10  10/18/2015  Standard Class    SO-20335   \n",
              "5       6  CA-2014-115812 2014-09-06   6/14/2014  Standard Class    BH-11710   \n",
              "6       7  CA-2014-115812 2014-09-06   6/14/2014  Standard Class    BH-11710   \n",
              "7       8  CA-2014-115812 2014-09-06   6/14/2014  Standard Class    BH-11710   \n",
              "8       9  CA-2014-115812 2014-09-06   6/14/2014  Standard Class    BH-11710   \n",
              "9      10  CA-2014-115812 2014-09-06   6/14/2014  Standard Class    BH-11710   \n",
              "\n",
              "     Customer Name    Segment        Country             City  ...  \\\n",
              "0      Claire Gute   Consumer  United States        Henderson  ...   \n",
              "1      Claire Gute   Consumer  United States        Henderson  ...   \n",
              "2  Darrin Van Huff  Corporate  United States      Los Angeles  ...   \n",
              "3   Sean O'Donnell   Consumer  United States  Fort Lauderdale  ...   \n",
              "4   Sean O'Donnell   Consumer  United States  Fort Lauderdale  ...   \n",
              "5  Brosina Hoffman   Consumer  United States      Los Angeles  ...   \n",
              "6  Brosina Hoffman   Consumer  United States      Los Angeles  ...   \n",
              "7  Brosina Hoffman   Consumer  United States      Los Angeles  ...   \n",
              "8  Brosina Hoffman   Consumer  United States      Los Angeles  ...   \n",
              "9  Brosina Hoffman   Consumer  United States      Los Angeles  ...   \n",
              "\n",
              "  Postal Code  Region       Product ID         Category Sub-Category  \\\n",
              "0       42420   South  FUR-BO-10001798        Furniture    Bookcases   \n",
              "1       42420   South  FUR-CH-10000454        Furniture       Chairs   \n",
              "2       90036    West  OFF-LA-10000240  Office Supplies       Labels   \n",
              "3       33311   South  FUR-TA-10000577        Furniture       Tables   \n",
              "4       33311   South  OFF-ST-10000760  Office Supplies      Storage   \n",
              "5       90032    West  FUR-FU-10001487        Furniture  Furnishings   \n",
              "6       90032    West  OFF-AR-10002833  Office Supplies          Art   \n",
              "7       90032    West  TEC-PH-10002275       Technology       Phones   \n",
              "8       90032    West  OFF-BI-10003910  Office Supplies      Binders   \n",
              "9       90032    West  OFF-AP-10002892  Office Supplies   Appliances   \n",
              "\n",
              "                                        Product Name     Sales  Quantity  \\\n",
              "0                  Bush Somerset Collection Bookcase  261.9600         2   \n",
              "1  Hon Deluxe Fabric Upholstered Stacking Chairs,...  731.9400         3   \n",
              "2  Self-Adhesive Address Labels for Typewriters b...   14.6200         2   \n",
              "3      Bretford CR4500 Series Slim Rectangular Table  957.5775         5   \n",
              "4                     Eldon Fold 'N Roll Cart System   22.3680         2   \n",
              "5  Eldon Expressions Wood and Plastic Desk Access...   48.8600         7   \n",
              "6                                         Newell 322    7.2800         4   \n",
              "7                     Mitel 5320 IP Phone VoIP phone  907.1520         6   \n",
              "8  DXL Angle-View Binders with Locking Rings by S...   18.5040         3   \n",
              "9                   Belkin F5C206VTEL 6 Outlet Surge  114.9000         5   \n",
              "\n",
              "   Discount    Profit  \n",
              "0      0.00   41.9136  \n",
              "1      0.00  219.5820  \n",
              "2      0.00    6.8714  \n",
              "3      0.45 -383.0310  \n",
              "4      0.20    2.5164  \n",
              "5      0.00   14.1694  \n",
              "6      0.00    1.9656  \n",
              "7      0.20   90.7152  \n",
              "8      0.20    5.7825  \n",
              "9      0.00   34.4700  \n",
              "\n",
              "[10 rows x 21 columns]"
            ]
          },
          "execution_count": 67,
          "metadata": {},
          "output_type": "execute_result"
        }
      ],
      "source": [
        "df.head(10)"
      ]
    },
    {
      "cell_type": "code",
      "execution_count": 68,
      "metadata": {
        "colab": {
          "base_uri": "https://localhost:8080/",
          "height": 447
        },
        "id": "uCkXof2-_m3u",
        "outputId": "a527c675-3f6a-405b-806b-7b759e12fc67"
      },
      "outputs": [
        {
          "data": {
            "text/plain": [
              "[<matplotlib.lines.Line2D at 0x1f580f59d10>]"
            ]
          },
          "execution_count": 68,
          "metadata": {},
          "output_type": "execute_result"
        },
        {
          "data": {
            "image/png": "[encoded data removed]",
            "text/plain": [
              "<Figure size 640x480 with 1 Axes>"
            ]
          },
          "metadata": {},
          "output_type": "display_data"
        }
      ],
      "source": [
        "plt.plot(yearly_sales['Year'], yearly_sales['Total Sales'], marker='o', linestyle='-')"
      ]
    },
    {
      "cell_type": "code",
      "execution_count": 69,
      "metadata": {
        "colab": {
          "base_uri": "https://localhost:8080/"
        },
        "id": "lLjj-71W_4vy",
        "outputId": "96c6f425-a1cc-4e32-9b2e-095b6b341bc2"
      },
      "outputs": [
        {
          "name": "stdout",
          "output_type": "stream",
          "text": [
            "Empty DataFrame\n",
            "Columns: [Quarter, Total Sales]\n",
            "Index: []\n"
          ]
        },
        {
          "name": "stderr",
          "output_type": "stream",
          "text": [
            "C:\\Users\\Hitesh Khirid\\AppData\\Local\\Temp\\ipykernel_18768\\973923776.py:3: FutureWarning: 'Q' is deprecated and will be removed in a future version, please use 'QE' instead.\n",
            "  quarterly_sales = year_sales.resample('Q', on='Order Date')['Sales'].sum()\n"
          ]
        }
      ],
      "source": [
        "df['Order Date'] = pd.to_datetime(df['Order Date'], dayfirst=True)\n",
        "year_sales = df[df['Order Date'].dt.year == 2018]\n",
        "quarterly_sales = year_sales.resample('Q', on='Order Date')['Sales'].sum()\n",
        "quarterly_sales = quarterly_sales.reset_index()\n",
        "quarterly_sales = quarterly_sales.rename(columns = {'Order Date': 'Quarter', 'Sales' : 'Total Sales'})\n",
        "print(quarterly_sales)"
      ]
    },
    {
      "cell_type": "code",
      "execution_count": 70,
      "metadata": {
        "colab": {
          "base_uri": "https://localhost:8080/",
          "height": 532
        },
        "id": "peFDyXVmAs6W",
        "outputId": "0ab896dc-7cbd-4e29-f6e2-c479a85681cc"
      },
      "outputs": [
        {
          "data": {
            "image/png": "[encoded data removed]",
            "text/plain": [
              "<Figure size 640x480 with 1 Axes>"
            ]
          },
          "metadata": {},
          "output_type": "display_data"
        }
      ],
      "source": [
        "plt.plot(quarterly_sales['Quarter'], quarterly_sales['Total Sales'], marker = 'o', linestyle = '--')\n",
        "\n",
        "plt.tight_layout()\n",
        "plt.xticks(rotation=75)\n",
        "plt.show()"
      ]
    },
    {
      "cell_type": "code",
      "execution_count": 71,
      "metadata": {
        "colab": {
          "base_uri": "https://localhost:8080/"
        },
        "id": "n38DRbiSBSvs",
        "outputId": "5945b337-b137-4826-b376-1168c9bc7648"
      },
      "outputs": [
        {
          "name": "stdout",
          "output_type": "stream",
          "text": [
            "Empty DataFrame\n",
            "Columns: [Month, Total Monthly Sales]\n",
            "Index: []\n"
          ]
        },
        {
          "name": "stderr",
          "output_type": "stream",
          "text": [
            "C:\\Users\\Hitesh Khirid\\AppData\\Local\\Temp\\ipykernel_18768\\3207429699.py:3: FutureWarning: 'M' is deprecated and will be removed in a future version, please use 'ME' instead.\n",
            "  monthly_sales = yearly_sales.resample('M', on = 'Order Date')['Sales'].sum()\n"
          ]
        }
      ],
      "source": [
        "df['Order Date'] = pd.to_datetime(df['Order Date'], dayfirst = True)\n",
        "yearly_sales = df[df['Order Date'].dt.year == 2018]\n",
        "monthly_sales = yearly_sales.resample('M', on = 'Order Date')['Sales'].sum()\n",
        "monthly_sales = monthly_sales.reset_index()\n",
        "monthly_sales = monthly_sales.rename(columns={'Order Date':'Month', 'Sales' : 'Total Monthly Sales'})\n",
        "\n",
        "print (monthly_sales)"
      ]
    },
    {
      "cell_type": "code",
      "execution_count": 72,
      "metadata": {
        "colab": {
          "base_uri": "https://localhost:8080/",
          "height": 447
        },
        "id": "6SmbDJ_-D9w1",
        "outputId": "ee483bf6-00c2-4c8f-a149-16dddd7aafa3"
      },
      "outputs": [
        {
          "data": {
            "text/plain": [
              "[<matplotlib.lines.Line2D at 0x1f58117c910>]"
            ]
          },
          "execution_count": 72,
          "metadata": {},
          "output_type": "execute_result"
        },
        {
          "data": {
            "image/png": "[encoded data removed]",
            "text/plain": [
              "<Figure size 640x480 with 1 Axes>"
            ]
          },
          "metadata": {},
          "output_type": "display_data"
        }
      ],
      "source": [
        "plt.plot(monthly_sales['Month'], monthly_sales['Total Monthly Sales'], marker = 'o', linestyle = '--')"
      ]
    },
    {
      "cell_type": "code",
      "execution_count": null,
      "metadata": {
        "id": "5gu42Ih7EM0L"
      },
      "outputs": [],
      "source": []
    }
  ],
  "metadata": {
    "colab": {
      "provenance": []
    },
    "kernelspec": {
      "display_name": "Python 3",
      "name": "python3"
    },
    "language_info": {
      "codemirror_mode": {
        "name": "ipython",
        "version": 3
      },
      "file_extension": ".py",
      "mimetype": "text/x-python",
      "name": "python",
      "nbconvert_exporter": "python",
      "pygments_lexer": "ipython3",
      "version": "3.13.1"
    }
  },
  "nbformat": 4,
  "nbformat_minor": 0
}
